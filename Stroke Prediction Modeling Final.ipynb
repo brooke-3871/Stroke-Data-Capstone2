{
 "cells": [
  {
   "cell_type": "markdown",
   "metadata": {},
   "source": [
    "# Stroke Prediction - Modeling\n",
    "\n",
    "## Capstone Project 1 - Brooke Hanson\n",
    "\n",
    "### Introduction\n",
    "\n",
    "### 1: The Problem \n",
    "\n",
    "This data was recorded in order for hospitals and healthcare practitioners to better understand the factors that most influence stroke occurance. The goal is to create a predictive model that will determine whether or not new patients will experience a stroke. This is a classification problem.\n",
    "\n",
    "### 2: The Data\n",
    "\n",
    "The Kaggle hosts the original problem and the dataset in their website as one of their competitions. Here, I downloaded the data from the Kaggle website. Following are the data fields in the dataset, which we are going to read in the Pandas data frame.\n",
    "\n",
    "- id \n",
    "- gender             \n",
    "- age                \n",
    "- hypertension         \n",
    "- heart_disease        \n",
    "- ever_married        \n",
    "- work_type           \n",
    "- Residence_type     \n",
    "- avg_glucose_level  \n",
    "- bmi                \n",
    "- smoking_status      \n",
    "- stroke\n"
   ]
  },
  {
   "cell_type": "markdown",
   "metadata": {},
   "source": [
    "### Importing Necessary Packages & Data"
   ]
  },
  {
   "cell_type": "code",
   "execution_count": 1,
   "metadata": {},
   "outputs": [],
   "source": [
    "import pandas as pd\n",
    "import matplotlib.pyplot as plt\n",
    "import numpy as np\n",
    "from scipy import stats\n",
    "from scipy.stats import chi2_contingency as chi2\n",
    "import seaborn as sns\n",
    "from sklearn.model_selection import train_test_split\n",
    "from sklearn.tree import DecisionTreeClassifier\n",
    "from sklearn.metrics import confusion_matrix"
   ]
  },
  {
   "cell_type": "code",
   "execution_count": 2,
   "metadata": {},
   "outputs": [],
   "source": [
    "from sklearn.tree import DecisionTreeRegressor\n",
    "from sklearn.metrics import make_scorer\n",
    "from sklearn.model_selection import GridSearchCV"
   ]
  },
  {
   "cell_type": "code",
   "execution_count": 3,
   "metadata": {},
   "outputs": [],
   "source": [
    "from sklearn.metrics import r2_score\n",
    "from sklearn.model_selection import ShuffleSplit\n",
    "from sklearn.model_selection import cross_val_score\n",
    "from sklearn.metrics import precision_score, recall_score, f1_score, accuracy_score"
   ]
  },
  {
   "cell_type": "code",
   "execution_count": 4,
   "metadata": {},
   "outputs": [],
   "source": [
    "from sklearn.metrics import precision_recall_curve\n",
    "from sklearn.metrics import f1_score\n",
    "from sklearn.metrics import auc\n",
    "from sklearn.linear_model import LogisticRegression\n",
    "from matplotlib import pyplot\n",
    "from sklearn.metrics import precision_recall_curve\n",
    "from sklearn.metrics import f1_score\n",
    "from sklearn.metrics import auc\n",
    "from sklearn.linear_model import LogisticRegression\n",
    "from sklearn.metrics import classification_report,confusion_matrix,roc_curve,roc_auc_score\n",
    "from sklearn.metrics import accuracy_score,log_loss\n",
    "from matplotlib import pyplot"
   ]
  },
  {
   "cell_type": "code",
   "execution_count": 5,
   "metadata": {},
   "outputs": [],
   "source": [
    "from sklearn.neighbors import NearestNeighbors\n",
    "from sklearn.pipeline import Pipeline\n",
    "from sklearn.neighbors import (NeighborhoodComponentsAnalysis, KNeighborsClassifier)\n",
    "from sklearn.preprocessing import scale"
   ]
  },
  {
   "cell_type": "code",
   "execution_count": 17,
   "metadata": {},
   "outputs": [],
   "source": [
    "def acc_met (y_test, y_pred):\n",
    "    cnf_matrix = confusion_matrix(y_test, y_pred)\n",
    "    acc = cnf_matrix[1,1]/cnf_matrix[1,0]\n",
    "    return acc\n",
    "\n",
    "# Function needed to look at those who have a stroke "
   ]
  },
  {
   "cell_type": "code",
   "execution_count": 7,
   "metadata": {},
   "outputs": [
    {
     "data": {
      "text/html": [
       "<div>\n",
       "<style scoped>\n",
       "    .dataframe tbody tr th:only-of-type {\n",
       "        vertical-align: middle;\n",
       "    }\n",
       "\n",
       "    .dataframe tbody tr th {\n",
       "        vertical-align: top;\n",
       "    }\n",
       "\n",
       "    .dataframe thead th {\n",
       "        text-align: right;\n",
       "    }\n",
       "</style>\n",
       "<table border=\"1\" class=\"dataframe\">\n",
       "  <thead>\n",
       "    <tr style=\"text-align: right;\">\n",
       "      <th></th>\n",
       "      <th>id</th>\n",
       "      <th>gender</th>\n",
       "      <th>age</th>\n",
       "      <th>hypertension</th>\n",
       "      <th>heart_disease</th>\n",
       "      <th>ever_married</th>\n",
       "      <th>work_type</th>\n",
       "      <th>Residence_type</th>\n",
       "      <th>avg_glucose_level</th>\n",
       "      <th>bmi</th>\n",
       "      <th>smoking_status</th>\n",
       "      <th>stroke</th>\n",
       "    </tr>\n",
       "  </thead>\n",
       "  <tbody>\n",
       "    <tr>\n",
       "      <th>0</th>\n",
       "      <td>9046</td>\n",
       "      <td>Male</td>\n",
       "      <td>67.0</td>\n",
       "      <td>0</td>\n",
       "      <td>1</td>\n",
       "      <td>Yes</td>\n",
       "      <td>Private</td>\n",
       "      <td>Urban</td>\n",
       "      <td>228.69</td>\n",
       "      <td>36.6</td>\n",
       "      <td>formerly smoked</td>\n",
       "      <td>1</td>\n",
       "    </tr>\n",
       "    <tr>\n",
       "      <th>1</th>\n",
       "      <td>51676</td>\n",
       "      <td>Female</td>\n",
       "      <td>61.0</td>\n",
       "      <td>0</td>\n",
       "      <td>0</td>\n",
       "      <td>Yes</td>\n",
       "      <td>Self-employed</td>\n",
       "      <td>Rural</td>\n",
       "      <td>202.21</td>\n",
       "      <td>NaN</td>\n",
       "      <td>never smoked</td>\n",
       "      <td>1</td>\n",
       "    </tr>\n",
       "    <tr>\n",
       "      <th>2</th>\n",
       "      <td>31112</td>\n",
       "      <td>Male</td>\n",
       "      <td>80.0</td>\n",
       "      <td>0</td>\n",
       "      <td>1</td>\n",
       "      <td>Yes</td>\n",
       "      <td>Private</td>\n",
       "      <td>Rural</td>\n",
       "      <td>105.92</td>\n",
       "      <td>32.5</td>\n",
       "      <td>never smoked</td>\n",
       "      <td>1</td>\n",
       "    </tr>\n",
       "    <tr>\n",
       "      <th>3</th>\n",
       "      <td>60182</td>\n",
       "      <td>Female</td>\n",
       "      <td>49.0</td>\n",
       "      <td>0</td>\n",
       "      <td>0</td>\n",
       "      <td>Yes</td>\n",
       "      <td>Private</td>\n",
       "      <td>Urban</td>\n",
       "      <td>171.23</td>\n",
       "      <td>34.4</td>\n",
       "      <td>smokes</td>\n",
       "      <td>1</td>\n",
       "    </tr>\n",
       "    <tr>\n",
       "      <th>4</th>\n",
       "      <td>1665</td>\n",
       "      <td>Female</td>\n",
       "      <td>79.0</td>\n",
       "      <td>1</td>\n",
       "      <td>0</td>\n",
       "      <td>Yes</td>\n",
       "      <td>Self-employed</td>\n",
       "      <td>Rural</td>\n",
       "      <td>174.12</td>\n",
       "      <td>24.0</td>\n",
       "      <td>never smoked</td>\n",
       "      <td>1</td>\n",
       "    </tr>\n",
       "  </tbody>\n",
       "</table>\n",
       "</div>"
      ],
      "text/plain": [
       "      id  gender   age  hypertension  heart_disease ever_married  \\\n",
       "0   9046    Male  67.0             0              1          Yes   \n",
       "1  51676  Female  61.0             0              0          Yes   \n",
       "2  31112    Male  80.0             0              1          Yes   \n",
       "3  60182  Female  49.0             0              0          Yes   \n",
       "4   1665  Female  79.0             1              0          Yes   \n",
       "\n",
       "       work_type Residence_type  avg_glucose_level   bmi   smoking_status  \\\n",
       "0        Private          Urban             228.69  36.6  formerly smoked   \n",
       "1  Self-employed          Rural             202.21   NaN     never smoked   \n",
       "2        Private          Rural             105.92  32.5     never smoked   \n",
       "3        Private          Urban             171.23  34.4           smokes   \n",
       "4  Self-employed          Rural             174.12  24.0     never smoked   \n",
       "\n",
       "   stroke  \n",
       "0       1  \n",
       "1       1  \n",
       "2       1  \n",
       "3       1  \n",
       "4       1  "
      ]
     },
     "execution_count": 7,
     "metadata": {},
     "output_type": "execute_result"
    }
   ],
   "source": [
    "#Importing the data\n",
    "df = pd.read_csv('healthcare-dataset-stroke-data.csv')\n",
    "df.head()"
   ]
  },
  {
   "cell_type": "code",
   "execution_count": 11,
   "metadata": {},
   "outputs": [
    {
     "name": "stdout",
     "output_type": "stream",
     "text": [
      "Replacing null BMI values with the median: 28.1\n"
     ]
    }
   ],
   "source": [
    "# filling NA in BMI\n",
    "print('Replacing null BMI values with the median:', df['bmi'].median()) \n",
    "median_value = 28.1 # can see from info table that the median for bmi is 28.1\n",
    "df['bmi'].fillna(value=median_value, inplace=True)"
   ]
  },
  {
   "cell_type": "code",
   "execution_count": 13,
   "metadata": {},
   "outputs": [],
   "source": [
    "# One 'Other' value in gender, replacing with majority value, Female.\n",
    "df['gender'] = df['gender'].replace('Other', 'Female')"
   ]
  },
  {
   "cell_type": "code",
   "execution_count": 14,
   "metadata": {},
   "outputs": [
    {
     "data": {
      "text/html": [
       "<div>\n",
       "<style scoped>\n",
       "    .dataframe tbody tr th:only-of-type {\n",
       "        vertical-align: middle;\n",
       "    }\n",
       "\n",
       "    .dataframe tbody tr th {\n",
       "        vertical-align: top;\n",
       "    }\n",
       "\n",
       "    .dataframe thead th {\n",
       "        text-align: right;\n",
       "    }\n",
       "</style>\n",
       "<table border=\"1\" class=\"dataframe\">\n",
       "  <thead>\n",
       "    <tr style=\"text-align: right;\">\n",
       "      <th></th>\n",
       "      <th>count</th>\n",
       "      <th>mean</th>\n",
       "      <th>std</th>\n",
       "      <th>min</th>\n",
       "      <th>25%</th>\n",
       "      <th>50%</th>\n",
       "      <th>75%</th>\n",
       "      <th>max</th>\n",
       "    </tr>\n",
       "  </thead>\n",
       "  <tbody>\n",
       "    <tr>\n",
       "      <th>id</th>\n",
       "      <td>5110.0</td>\n",
       "      <td>36517.829354</td>\n",
       "      <td>21161.721625</td>\n",
       "      <td>67.00</td>\n",
       "      <td>17741.250</td>\n",
       "      <td>36932.000</td>\n",
       "      <td>54682.00</td>\n",
       "      <td>72940.00</td>\n",
       "    </tr>\n",
       "    <tr>\n",
       "      <th>age</th>\n",
       "      <td>5110.0</td>\n",
       "      <td>43.226614</td>\n",
       "      <td>22.612647</td>\n",
       "      <td>0.08</td>\n",
       "      <td>25.000</td>\n",
       "      <td>45.000</td>\n",
       "      <td>61.00</td>\n",
       "      <td>82.00</td>\n",
       "    </tr>\n",
       "    <tr>\n",
       "      <th>hypertension</th>\n",
       "      <td>5110.0</td>\n",
       "      <td>0.097456</td>\n",
       "      <td>0.296607</td>\n",
       "      <td>0.00</td>\n",
       "      <td>0.000</td>\n",
       "      <td>0.000</td>\n",
       "      <td>0.00</td>\n",
       "      <td>1.00</td>\n",
       "    </tr>\n",
       "    <tr>\n",
       "      <th>heart_disease</th>\n",
       "      <td>5110.0</td>\n",
       "      <td>0.054012</td>\n",
       "      <td>0.226063</td>\n",
       "      <td>0.00</td>\n",
       "      <td>0.000</td>\n",
       "      <td>0.000</td>\n",
       "      <td>0.00</td>\n",
       "      <td>1.00</td>\n",
       "    </tr>\n",
       "    <tr>\n",
       "      <th>avg_glucose_level</th>\n",
       "      <td>5110.0</td>\n",
       "      <td>106.147677</td>\n",
       "      <td>45.283560</td>\n",
       "      <td>55.12</td>\n",
       "      <td>77.245</td>\n",
       "      <td>91.885</td>\n",
       "      <td>114.09</td>\n",
       "      <td>271.74</td>\n",
       "    </tr>\n",
       "    <tr>\n",
       "      <th>bmi</th>\n",
       "      <td>5110.0</td>\n",
       "      <td>28.862035</td>\n",
       "      <td>7.699562</td>\n",
       "      <td>10.30</td>\n",
       "      <td>23.800</td>\n",
       "      <td>28.100</td>\n",
       "      <td>32.80</td>\n",
       "      <td>97.60</td>\n",
       "    </tr>\n",
       "    <tr>\n",
       "      <th>stroke</th>\n",
       "      <td>5110.0</td>\n",
       "      <td>0.048728</td>\n",
       "      <td>0.215320</td>\n",
       "      <td>0.00</td>\n",
       "      <td>0.000</td>\n",
       "      <td>0.000</td>\n",
       "      <td>0.00</td>\n",
       "      <td>1.00</td>\n",
       "    </tr>\n",
       "  </tbody>\n",
       "</table>\n",
       "</div>"
      ],
      "text/plain": [
       "                    count          mean           std    min        25%  \\\n",
       "id                 5110.0  36517.829354  21161.721625  67.00  17741.250   \n",
       "age                5110.0     43.226614     22.612647   0.08     25.000   \n",
       "hypertension       5110.0      0.097456      0.296607   0.00      0.000   \n",
       "heart_disease      5110.0      0.054012      0.226063   0.00      0.000   \n",
       "avg_glucose_level  5110.0    106.147677     45.283560  55.12     77.245   \n",
       "bmi                5110.0     28.862035      7.699562  10.30     23.800   \n",
       "stroke             5110.0      0.048728      0.215320   0.00      0.000   \n",
       "\n",
       "                         50%       75%       max  \n",
       "id                 36932.000  54682.00  72940.00  \n",
       "age                   45.000     61.00     82.00  \n",
       "hypertension           0.000      0.00      1.00  \n",
       "heart_disease          0.000      0.00      1.00  \n",
       "avg_glucose_level     91.885    114.09    271.74  \n",
       "bmi                   28.100     32.80     97.60  \n",
       "stroke                 0.000      0.00      1.00  "
      ]
     },
     "execution_count": 14,
     "metadata": {},
     "output_type": "execute_result"
    }
   ],
   "source": [
    "# Taking a look at the spread of data\n",
    "df.describe().T"
   ]
  },
  {
   "cell_type": "markdown",
   "metadata": {},
   "source": [
    "### Testing and Making Model\n",
    "\n",
    "Here I am replacing the values of 0 and 1 with Yes and No, in the variables hypertension, and heart disease, since these are categorical representations and will be a more accurate representation of the data."
   ]
  },
  {
   "cell_type": "code",
   "execution_count": 15,
   "metadata": {},
   "outputs": [],
   "source": [
    "df['hypertension'] = df['hypertension'].replace({0 : 'No', 1 : 'Yes'})\n",
    "df['heart_disease'] = df['heart_disease'].replace({0: 'No', 1 : 'Yes'})\n",
    "df = df[['age', 'hypertension','heart_disease', 'avg_glucose_level','bmi','stroke','gender','ever_married','work_type','Residence_type','smoking_status']]"
   ]
  },
  {
   "cell_type": "code",
   "execution_count": 143,
   "metadata": {},
   "outputs": [
    {
     "name": "stdout",
     "output_type": "stream",
     "text": [
      "[[0. 0. 0. ... 0. 0. 0.]]\n",
      "[[0. 0. 0. ... 0. 0. 0.]]\n",
      "[[0. 0. 0. ... 0. 0. 0.]]\n"
     ]
    }
   ],
   "source": [
    "# Rescale Data\n",
    "from numpy import asarray\n",
    "from sklearn.preprocessing import MinMaxScaler\n",
    "# define min max scaler\n",
    "scaler = MinMaxScaler()\n",
    "# transform data\n",
    "age = asarray(df['age']).reshape(1,-1)\n",
    "ages = scaler.fit_transform(age)\n",
    "print(ages)\n",
    "avg_gluc = asarray(df['avg_glucose_level']).reshape(1,-1)\n",
    "avg_glucs = scaler.fit_transform(avg_gluc)\n",
    "print(avg_glucs)\n",
    "bmi = asarray(df['bmi']).reshape(1,-1)\n",
    "bmis = scaler.fit_transform(bmi)\n",
    "print(bmis)"
   ]
  },
  {
   "cell_type": "code",
   "execution_count": 147,
   "metadata": {},
   "outputs": [],
   "source": [
    "def NormalizeData(data):\n",
    "    return (data - np.min(data)) / (np.max(data) - np.min(data))"
   ]
  },
  {
   "cell_type": "code",
   "execution_count": 149,
   "metadata": {},
   "outputs": [],
   "source": [
    "df['age'] = NormalizeData(df['age'])\n",
    "df['avg_glucose_level'] = NormalizeData(df['avg_glucose_level'])\n",
    "df['bmi'] = NormalizeData(df['bmi'])"
   ]
  },
  {
   "cell_type": "code",
   "execution_count": 167,
   "metadata": {},
   "outputs": [],
   "source": [
    "import scipy.stats as stats\n",
    "df['age'] = stats.zscore(df['age'])\n",
    "df['avg_glucose_level'] = stats.zscore(df['avg_glucose_level'])\n",
    "df['bmi'] = stats.zscore(df['bmi'])"
   ]
  },
  {
   "cell_type": "markdown",
   "metadata": {},
   "source": [
    "### Making Dummy Variables \n",
    "Here I will create dummy variables in order to create models"
   ]
  },
  {
   "cell_type": "code",
   "execution_count": 150,
   "metadata": {},
   "outputs": [
    {
     "name": "stdout",
     "output_type": "stream",
     "text": [
      "<class 'pandas.core.frame.DataFrame'>\n",
      "RangeIndex: 5110 entries, 0 to 5109\n",
      "Data columns (total 16 columns):\n",
      " #   Column                          Non-Null Count  Dtype  \n",
      "---  ------                          --------------  -----  \n",
      " 0   age                             5110 non-null   float64\n",
      " 1   avg_glucose_level               5110 non-null   float64\n",
      " 2   bmi                             5110 non-null   float64\n",
      " 3   stroke                          5110 non-null   int64  \n",
      " 4   hypertension_Yes                5110 non-null   uint8  \n",
      " 5   heart_disease_Yes               5110 non-null   uint8  \n",
      " 6   gender_Male                     5110 non-null   uint8  \n",
      " 7   ever_married_Yes                5110 non-null   uint8  \n",
      " 8   work_type_Never_worked          5110 non-null   uint8  \n",
      " 9   work_type_Private               5110 non-null   uint8  \n",
      " 10  work_type_Self-employed         5110 non-null   uint8  \n",
      " 11  work_type_children              5110 non-null   uint8  \n",
      " 12  Residence_type_Urban            5110 non-null   uint8  \n",
      " 13  smoking_status_formerly smoked  5110 non-null   uint8  \n",
      " 14  smoking_status_never smoked     5110 non-null   uint8  \n",
      " 15  smoking_status_smokes           5110 non-null   uint8  \n",
      "dtypes: float64(3), int64(1), uint8(12)\n",
      "memory usage: 219.7 KB\n"
     ]
    }
   ],
   "source": [
    "df1 = pd.get_dummies(df, drop_first = True) \n",
    "df1.info()"
   ]
  },
  {
   "cell_type": "markdown",
   "metadata": {},
   "source": [
    "### Train Test Split the Data"
   ]
  },
  {
   "cell_type": "code",
   "execution_count": 151,
   "metadata": {},
   "outputs": [],
   "source": [
    "X = df1.drop('stroke', axis = 1)\n",
    "y = df1.stroke"
   ]
  },
  {
   "cell_type": "code",
   "execution_count": 152,
   "metadata": {},
   "outputs": [],
   "source": [
    "# train test split\n",
    "X_train, X_test, y_train, y_test = train_test_split(X, y, test_size=0.25, random_state=42)"
   ]
  },
  {
   "cell_type": "code",
   "execution_count": 153,
   "metadata": {},
   "outputs": [
    {
     "data": {
      "text/plain": [
       "((3832, 15), (3832,), (1278, 15), (1278,))"
      ]
     },
     "execution_count": 153,
     "metadata": {},
     "output_type": "execute_result"
    }
   ],
   "source": [
    "#check shape of train and test shape\n",
    "X_train.shape, y_train.shape, X_test.shape, y_test.shape"
   ]
  },
  {
   "cell_type": "code",
   "execution_count": 154,
   "metadata": {},
   "outputs": [
    {
     "name": "stdout",
     "output_type": "stream",
     "text": [
      "<class 'pandas.core.frame.DataFrame'>\n",
      "Int64Index: 3832 entries, 4505 to 860\n",
      "Data columns (total 15 columns):\n",
      " #   Column                          Non-Null Count  Dtype  \n",
      "---  ------                          --------------  -----  \n",
      " 0   age                             3832 non-null   float64\n",
      " 1   avg_glucose_level               3832 non-null   float64\n",
      " 2   bmi                             3832 non-null   float64\n",
      " 3   hypertension_Yes                3832 non-null   uint8  \n",
      " 4   heart_disease_Yes               3832 non-null   uint8  \n",
      " 5   gender_Male                     3832 non-null   uint8  \n",
      " 6   ever_married_Yes                3832 non-null   uint8  \n",
      " 7   work_type_Never_worked          3832 non-null   uint8  \n",
      " 8   work_type_Private               3832 non-null   uint8  \n",
      " 9   work_type_Self-employed         3832 non-null   uint8  \n",
      " 10  work_type_children              3832 non-null   uint8  \n",
      " 11  Residence_type_Urban            3832 non-null   uint8  \n",
      " 12  smoking_status_formerly smoked  3832 non-null   uint8  \n",
      " 13  smoking_status_never smoked     3832 non-null   uint8  \n",
      " 14  smoking_status_smokes           3832 non-null   uint8  \n",
      "dtypes: float64(3), uint8(12)\n",
      "memory usage: 164.7 KB\n"
     ]
    }
   ],
   "source": [
    "#Check the details of X_train\n",
    "X_train.info()"
   ]
  },
  {
   "cell_type": "markdown",
   "metadata": {},
   "source": [
    "Because this is a classification problem I started model selection by looking at a basic Decision Tree Model"
   ]
  },
  {
   "cell_type": "markdown",
   "metadata": {},
   "source": [
    "### Decision Tree Model"
   ]
  },
  {
   "cell_type": "code",
   "execution_count": 155,
   "metadata": {},
   "outputs": [
    {
     "data": {
      "text/plain": [
       "DecisionTreeClassifier(class_weight='balanced', random_state=0)"
      ]
     },
     "execution_count": 155,
     "metadata": {},
     "output_type": "execute_result"
    }
   ],
   "source": [
    "# Declare the Decision tree, we use class_weight = balanced because there is a large proportion \n",
    "# more of patients without strokes than patients with strokes\n",
    "clf = DecisionTreeClassifier(class_weight = 'balanced',random_state=0)\n",
    "clf.fit(X_train ,y_train)"
   ]
  },
  {
   "cell_type": "code",
   "execution_count": 156,
   "metadata": {},
   "outputs": [],
   "source": [
    "# use the predict function to compare how accurately the decision tree can classify patients\n",
    "y_pred = clf.predict(X_test)"
   ]
  },
  {
   "cell_type": "code",
   "execution_count": 157,
   "metadata": {},
   "outputs": [
    {
     "data": {
      "text/plain": [
       "array([[1159,   70],\n",
       "       [  39,   10]])"
      ]
     },
     "execution_count": 157,
     "metadata": {},
     "output_type": "execute_result"
    }
   ],
   "source": [
    "# We use the confusion matrix to identify True Negatives and True Postitives. In this case we will be looking at \n",
    "# True Negatives as the indicator of stroke.\n",
    "confusion_matrix(y_pred, y_test)"
   ]
  },
  {
   "cell_type": "markdown",
   "metadata": {},
   "source": [
    "This confusion matrix shows that there are 10 true negatives and 70 false negatives. This may not the best predictive model for the data. I will do a grid search to see if the model can be tuned"
   ]
  },
  {
   "cell_type": "code",
   "execution_count": 158,
   "metadata": {},
   "outputs": [
    {
     "data": {
      "text/plain": [
       "[(0.4670174597015987, 'age'),\n",
       " (0.21885984013888318, 'avg_glucose_level'),\n",
       " (0.17559699344387, 'bmi'),\n",
       " (0.010244003022936725, 'hypertension_Yes'),\n",
       " (0.015173973015351557, 'heart_disease_Yes'),\n",
       " (0.014755489214728903, 'gender_Male'),\n",
       " (0.0035771962568460843, 'ever_married_Yes'),\n",
       " (0.0, 'work_type_Never_worked'),\n",
       " (0.010669031948152026, 'work_type_Private'),\n",
       " (0.021806427352660637, 'work_type_Self-employed'),\n",
       " (0.0, 'work_type_children'),\n",
       " (0.008023519926967785, 'Residence_type_Urban'),\n",
       " (0.02378608161034704, 'smoking_status_formerly smoked'),\n",
       " (0.028924349831917415, 'smoking_status_never smoked'),\n",
       " (0.0015656345357399316, 'smoking_status_smokes')]"
      ]
     },
     "execution_count": 158,
     "metadata": {},
     "output_type": "execute_result"
    }
   ],
   "source": [
    "list(zip(clf.feature_importances_,X_test.columns))"
   ]
  },
  {
   "cell_type": "code",
   "execution_count": 159,
   "metadata": {},
   "outputs": [
    {
     "data": {
      "image/png": "[encoded data removed]",
      "text/plain": [
       "<Figure size 576x576 with 1 Axes>"
      ]
     },
     "metadata": {
      "needs_background": "light"
     },
     "output_type": "display_data"
    }
   ],
   "source": [
    "importance = clf.feature_importances_\n",
    "# plot feature importance\n",
    "plt.bar([x for x in range(len(importance))], importance)\n",
    "plt.xticks(ticks = [0,1,2,3,4,5,6,7,8,9,10,11,12,13, 14], labels = X_test.columns, rotation = 45)\n",
    "plt.rcParams[\"figure.figsize\"] = (8,8)\n",
    "plt.show()"
   ]
  },
  {
   "cell_type": "code",
   "execution_count": 160,
   "metadata": {},
   "outputs": [
    {
     "name": "stdout",
     "output_type": "stream",
     "text": [
      "[0.0625 0.0625 0.25   0.4375 0.0625]\n",
      "Mean cross validation test score: 0.175\n",
      "Mean cross validation train score: 0.13654188948306595\n",
      "Standard deviation in cv scores: 0.15\n"
     ]
    }
   ],
   "source": [
    "cv_scores_test= cross_val_score(clf,X_test,y_test,cv=5,scoring='recall')\n",
    "cv_scores_train= cross_val_score(clf,X_train,y_train,cv=5,scoring='recall')\n",
    "print(cv_scores_test)\n",
    "cv_scores_dt_test= cv_scores_test.mean()\n",
    "cv_scores_dt_train= cv_scores_train.mean()\n",
    "cv_scores_std_dt= cv_scores_test.std()\n",
    "print ('Mean cross validation test score: ' +str(cv_scores_dt_test))\n",
    "print ('Mean cross validation train score: ' +str(cv_scores_dt_train))\n",
    "print ('Standard deviation in cv scores: ' +str(cv_scores_std_dt))"
   ]
  },
  {
   "cell_type": "code",
   "execution_count": 161,
   "metadata": {},
   "outputs": [
    {
     "name": "stdout",
     "output_type": "stream",
     "text": [
      "[[1159   39]\n",
      " [  70   10]]\n",
      "Random Forest: Recall=0.143\n"
     ]
    }
   ],
   "source": [
    "# Here is where I will use the above defined acc_met function to determine the recall, or the score of whether the\n",
    "# model will be able to predict strokes\n",
    "cnf_matrix = confusion_matrix(y_test, y_pred)\n",
    "print(cnf_matrix)\n",
    "rc_dt = acc_met(y_test, y_pred)\n",
    "print('Random Forest: Recall=%.3f' % (rc_dt))"
   ]
  },
  {
   "cell_type": "code",
   "execution_count": 235,
   "metadata": {},
   "outputs": [],
   "source": [
    "def fit_model(X, y):\n",
    "    \"\"\" Performs grid search over the 'max_depth' parameter for a \n",
    "        decision tree regressor trained on the input data [X, y]. \"\"\"\n",
    "    \n",
    "    # Create cross-validation sets from the training data\n",
    "    # sklearn version 0.18: ShuffleSplit(n_splits=10, test_size=0.1, train_size=None, random_state=None)\n",
    "    # sklearn versiin 0.17: ShuffleSplit(n, n_iter=10, test_size=0.1, train_size=None, random_state=None)\n",
    "    cv_sets = ShuffleSplit(n_splits = 3, test_size = 0.20, random_state = 0)\n",
    "    \n",
    "    #  Create a decision tree regressor object\n",
    "    regressor = DecisionTreeClassifier(class_weight = 'balanced')\n",
    "\n",
    "    #  Create a dictionary for the parameter 'max_depth' with a range from 1 to 10\n",
    "    params = {\"max_depth\":[5,8, 10, 12, 20, 25, 30],\n",
    "             \"criterion\" : ['entropy', 'gini']}\n",
    "\n",
    "    #  Transform 'performance_metric' into a scoring function using 'make_scorer' \n",
    "    scoring_fnc = make_scorer(acc_met)\n",
    "\n",
    "    #   Create the grid search cv object --> GridSearchCV()\n",
    "    # Make sure to include the right parameters in the object:\n",
    "    # (estimator, param_grid, scoring, cv) which have values 'regressor', 'params', 'scoring_fnc', and 'cv_sets' respectively.\n",
    "    grid = GridSearchCV(estimator = regressor, param_grid = params, scoring = scoring_fnc, cv = cv_sets)\n",
    "\n",
    "    # Fit the grid search object to the data to compute the optimal model\n",
    "    grid = grid.fit(X, y)\n",
    " #   print \"Parameter 'max_depth' is {} for the optimal model.\".format(grid.get_params() )\n",
    "\n",
    "    # Return the optimal model after fitting the data\n",
    "    return grid \n",
    "\n",
    "reg = fit_model(X_train, y_train)"
   ]
  },
  {
   "cell_type": "code",
   "execution_count": 175,
   "metadata": {},
   "outputs": [
    {
     "name": "stdout",
     "output_type": "stream",
     "text": [
      "[[0.         0.        ]\n",
      " [0.03980986 0.00980392]\n",
      " [0.         0.06432749]]\n"
     ]
    }
   ],
   "source": [
    "np.array(scores).shape\n",
    "print(scores)\n",
    "print(i)"
   ]
  },
  {
   "cell_type": "code",
   "execution_count": 183,
   "metadata": {},
   "outputs": [
    {
     "name": "stdout",
     "output_type": "stream",
     "text": [
      "[0.         0.         0.03980986]\n"
     ]
    }
   ],
   "source": [
    "print(i)"
   ]
  },
  {
   "cell_type": "code",
   "execution_count": 236,
   "metadata": {},
   "outputs": [
    {
     "data": {
      "image/png": "[encoded data removed]",
      "text/plain": [
       "<Figure size 576x576 with 1 Axes>"
      ]
     },
     "metadata": {
      "needs_background": "light"
     },
     "output_type": "display_data"
    }
   ],
   "source": [
    "scores = list(reg.cv_results_['mean_test_score'])\n",
    "scores = np.array(scores).reshape(2,7)\n",
    "criterion = ['entropy', 'gini']\n",
    "\n",
    "for ind, i in enumerate(scores):\n",
    "    plt.plot([5,8,10,12,20,25,30], i, label=criterion[ind])\n",
    "plt.legend()\n",
    "plt.xlabel('Max Depth')\n",
    "plt.ylabel('Mean score')\n",
    "plt.show()\n"
   ]
  },
  {
   "cell_type": "markdown",
   "metadata": {},
   "source": [
    "From this graph we can determine the best hyperparameters for the decision tree model are gini with a max depth of 12"
   ]
  },
  {
   "cell_type": "code",
   "execution_count": 237,
   "metadata": {},
   "outputs": [
    {
     "data": {
      "text/plain": [
       "DecisionTreeClassifier(class_weight='balanced', max_depth=12)"
      ]
     },
     "execution_count": 237,
     "metadata": {},
     "output_type": "execute_result"
    }
   ],
   "source": [
    "clf = DecisionTreeClassifier(class_weight = 'balanced', max_depth = 12, criterion = 'gini')\n",
    "clf.fit(X_train, y_train)"
   ]
  },
  {
   "cell_type": "code",
   "execution_count": 238,
   "metadata": {},
   "outputs": [],
   "source": [
    "y_pred = clf.predict(X_test)"
   ]
  },
  {
   "cell_type": "code",
   "execution_count": 239,
   "metadata": {},
   "outputs": [
    {
     "data": {
      "text/plain": [
       "array([[1089,   58],\n",
       "       [ 109,   22]])"
      ]
     },
     "execution_count": 239,
     "metadata": {},
     "output_type": "execute_result"
    }
   ],
   "source": [
    "confusion_matrix(y_pred, y_test)"
   ]
  },
  {
   "cell_type": "code",
   "execution_count": 240,
   "metadata": {},
   "outputs": [
    {
     "name": "stdout",
     "output_type": "stream",
     "text": [
      "Random Forest: Recall=0.379\n"
     ]
    }
   ],
   "source": [
    "rc_dt = acc_met(y_test, y_pred)\n",
    "print('Random Forest: Recall=%.3f' % (rc_dt))"
   ]
  },
  {
   "cell_type": "markdown",
   "metadata": {},
   "source": [
    "We can see that the confusion matrix is better than the previous one for the model. We have higher scores where we are interested in, such as the increase in the lower right cell from 17 to 22 and less false positives from  72 to 58. So we know the hyperparamters have helped tune the model"
   ]
  },
  {
   "cell_type": "markdown",
   "metadata": {},
   "source": [
    "### K Nearest Neighbor"
   ]
  },
  {
   "cell_type": "code",
   "execution_count": 165,
   "metadata": {},
   "outputs": [
    {
     "name": "stdout",
     "output_type": "stream",
     "text": [
      "0.9287949921752738\n"
     ]
    }
   ],
   "source": [
    "X_train, X_test, y_train, y_test = train_test_split(X, y, test_size=0.25, random_state=42)\n",
    "nca = NeighborhoodComponentsAnalysis(random_state=42)\n",
    "knn = KNeighborsClassifier(n_neighbors=3)\n",
    "nca_pipe = Pipeline([('nca', nca), ('knn', knn)])\n",
    "nca_pipe.fit(X_train, y_train)\n",
    "\n",
    "print(nca_pipe.score(X_test, y_test))"
   ]
  },
  {
   "cell_type": "code",
   "execution_count": 166,
   "metadata": {},
   "outputs": [],
   "source": [
    "y_pred = knn.predict(X_test)"
   ]
  },
  {
   "cell_type": "code",
   "execution_count": 69,
   "metadata": {},
   "outputs": [
    {
     "name": "stdout",
     "output_type": "stream",
     "text": [
      "Recall Score: 0.000000%\n"
     ]
    }
   ],
   "source": [
    "print(\"Recall Score: %f%%\" %  acc_met(y_test,y_pred))"
   ]
  },
  {
   "cell_type": "code",
   "execution_count": 71,
   "metadata": {},
   "outputs": [
    {
     "name": "stdout",
     "output_type": "stream",
     "text": [
      "0.9358372456964006\n"
     ]
    }
   ],
   "source": [
    "# Looking at the difference in scaled data and unscaled data\n",
    "Xs = scale(X)\n",
    "Xs_train, Xs_test, y_train, y_test = train_test_split(Xs, y, test_size=0.25, random_state=42)\n",
    "nca = NeighborhoodComponentsAnalysis(random_state=42)\n",
    "knn = KNeighborsClassifier(n_neighbors=3)\n",
    "nca_pipe = Pipeline([('nca', nca), ('knn', knn)])\n",
    "nca_pipe.fit(Xs_train, y_train)\n",
    "\n",
    "print(nca_pipe.score(Xs_test, y_test))"
   ]
  },
  {
   "cell_type": "code",
   "execution_count": 72,
   "metadata": {},
   "outputs": [],
   "source": [
    "y_pred = knn.predict(X_test)"
   ]
  },
  {
   "cell_type": "code",
   "execution_count": 74,
   "metadata": {},
   "outputs": [
    {
     "name": "stdout",
     "output_type": "stream",
     "text": [
      "Recall Score: 0.000000%\n"
     ]
    }
   ],
   "source": [
    "print(\"Recall Score: %f%%\" %  acc_met(y_test,y_pred))"
   ]
  },
  {
   "cell_type": "code",
   "execution_count": 82,
   "metadata": {},
   "outputs": [
    {
     "name": "stdout",
     "output_type": "stream",
     "text": [
      "[0.     0.     0.0625 0.0625 0.    ]\n",
      "Mean cross validation test score: 0.025\n",
      "Mean cross validation train score: 0.04153297682709448\n",
      "Standard deviation in cv scores: 0.03061862178478973\n"
     ]
    }
   ],
   "source": [
    "#scaled train test\n",
    "cv_scores_test= cross_val_score(knn,Xs_test,y_test,cv=5,scoring='recall')\n",
    "cv_scores_train= cross_val_score(knn,Xs_train,y_train,cv=5,scoring='recall')\n",
    "print(cv_scores_test)\n",
    "cv_scores_knn_test= cv_scores_test.mean()\n",
    "cv_scores_knn_train= cv_scores_train.mean()\n",
    "cv_scores_std_knn= cv_scores_test.std()\n",
    "print ('Mean cross validation test score: ' +str(cv_scores_knn_test))\n",
    "print ('Mean cross validation train score: ' +str(cv_scores_knn_train))\n",
    "print ('Standard deviation in cv scores: ' +str(cv_scores_std_knn))"
   ]
  },
  {
   "cell_type": "code",
   "execution_count": 83,
   "metadata": {},
   "outputs": [
    {
     "name": "stdout",
     "output_type": "stream",
     "text": [
      "[[1198    0]\n",
      " [  80    0]]\n",
      "Random Forest: Recall=0.000\n"
     ]
    }
   ],
   "source": [
    "cnf_matrix = confusion_matrix(y_test, y_pred)\n",
    "print(cnf_matrix)\n",
    "rc_knn = acc_met(y_test, y_pred)\n",
    "print('K Nearest Neighbor: Recall=%.3f' % (rc_knn))"
   ]
  },
  {
   "cell_type": "code",
   "execution_count": 198,
   "metadata": {},
   "outputs": [],
   "source": [
    "def fit_model(X, y):\n",
    "    \"\"\" Performs grid search over the 'max_depth' parameter for a \n",
    "        decision tree regressor trained on the input data [X, y]. \"\"\"\n",
    "    \n",
    "    # Create cross-validation sets from the training data\n",
    "    # sklearn version 0.18: ShuffleSplit(n_splits=10, test_size=0.1, train_size=None, random_state=None)\n",
    "    # sklearn versiin 0.17: ShuffleSplit(n, n_iter=10, test_size=0.1, train_size=None, random_state=None)\n",
    "    cv_sets = ShuffleSplit(n_splits = 3, test_size = 0.20, random_state = 0)\n",
    "    \n",
    "    #  Create a decision tree regressor object\n",
    "    regressor = KNeighborsClassifier()\n",
    "\n",
    "    #  Create a dictionary for the parameter 'max_depth' with a range from 1 to 10\n",
    "    params = {'leaf_size':[2,4,6,8] ,\n",
    "             'n_neighbors': [3,6,9,12]}\n",
    "\n",
    "    #  Transform 'performance_metric' into a scoring function using 'make_scorer' \n",
    "    scoring_fnc = make_scorer(acc_met)\n",
    "\n",
    "    #   Create the grid search cv object --> GridSearchCV()\n",
    "    # Make sure to include the right parameters in the object:\n",
    "    # (estimator, param_grid, scoring, cv) which have values 'regressor', 'params', 'scoring_fnc', and 'cv_sets' respectively.\n",
    "    grid = GridSearchCV(estimator = regressor, param_grid = params, scoring = scoring_fnc, cv = cv_sets)\n",
    "\n",
    "    # Fit the grid search object to the data to compute the optimal model\n",
    "    grid = grid.fit(X, y)\n",
    " #   print \"Parameter 'max_depth' is {} for the optimal model.\".format(grid.get_params() )\n",
    "\n",
    "    # Return the optimal model after fitting the data\n",
    "    return grid \n",
    "\n",
    "reg = fit_model(X_train, y_train)"
   ]
  },
  {
   "cell_type": "code",
   "execution_count": 204,
   "metadata": {},
   "outputs": [
    {
     "data": {
      "image/png": "[encoded data removed]",
      "text/plain": [
       "<Figure size 576x576 with 1 Axes>"
      ]
     },
     "metadata": {
      "needs_background": "light"
     },
     "output_type": "display_data"
    }
   ],
   "source": [
    "scores = list(reg.cv_results_['mean_test_score'])\n",
    "scores = np.array(scores).reshape(4,4)\n",
    "n_neighbors = [3,6,9,12]\n",
    "\n",
    "for ind, i in enumerate(scores):\n",
    "    plt.plot([2,4,6,8], scores[ind], label='N_neighbors: ' + str(n_neighbors[ind]))\n",
    "plt.legend()\n",
    "plt.xlabel('Leaf Size')\n",
    "plt.ylabel('Mean Score')\n",
    "plt.show()"
   ]
  },
  {
   "cell_type": "markdown",
   "metadata": {},
   "source": [
    "This graph shows us the best combination of the K nearest Neighbor hyper paramters, we can see that is 3 neighbors with a leaf size of 6"
   ]
  },
  {
   "cell_type": "code",
   "execution_count": 230,
   "metadata": {},
   "outputs": [],
   "source": [
    "knn = KNeighborsClassifier(n_neighbors = 3, leaf_size = 6)"
   ]
  },
  {
   "cell_type": "code",
   "execution_count": 231,
   "metadata": {},
   "outputs": [
    {
     "data": {
      "text/plain": [
       "KNeighborsClassifier(leaf_size=6, n_neighbors=3)"
      ]
     },
     "execution_count": 231,
     "metadata": {},
     "output_type": "execute_result"
    }
   ],
   "source": [
    "knn.fit(X_train, y_train)"
   ]
  },
  {
   "cell_type": "code",
   "execution_count": 232,
   "metadata": {},
   "outputs": [],
   "source": [
    "y_pred = knn.predict(X_test)"
   ]
  },
  {
   "cell_type": "code",
   "execution_count": 233,
   "metadata": {},
   "outputs": [
    {
     "data": {
      "text/plain": [
       "array([[1185,   77],\n",
       "       [  13,    3]])"
      ]
     },
     "execution_count": 233,
     "metadata": {},
     "output_type": "execute_result"
    }
   ],
   "source": [
    "confusion_matrix(y_pred, y_test)"
   ]
  },
  {
   "cell_type": "markdown",
   "metadata": {},
   "source": [
    "While this is not the best confusion matrix we have seen for the data, the tuning of the hyperparameters did increase the accuracy of predictions"
   ]
  },
  {
   "cell_type": "code",
   "execution_count": 234,
   "metadata": {},
   "outputs": [
    {
     "name": "stdout",
     "output_type": "stream",
     "text": [
      "K Nearest Neighbor: Recall=0.039\n"
     ]
    }
   ],
   "source": [
    "rc_knn = acc_met(y_test, y_pred)\n",
    "print('K Nearest Neighbor: Recall=%.3f' % (rc_knn))"
   ]
  },
  {
   "cell_type": "markdown",
   "metadata": {},
   "source": [
    "Again we can see that this may not be the best model for our data, but the tuning of the hyperparameters has increased the recall score "
   ]
  },
  {
   "cell_type": "markdown",
   "metadata": {},
   "source": [
    "### Random Forrest Model"
   ]
  },
  {
   "cell_type": "code",
   "execution_count": 86,
   "metadata": {},
   "outputs": [
    {
     "name": "stdout",
     "output_type": "stream",
     "text": [
      "Random Forest: Recall=0.000\n",
      "[[1198    0]\n",
      " [  80    0]]\n"
     ]
    }
   ],
   "source": [
    "from sklearn.ensemble import RandomForestClassifier\n",
    "clf = RandomForestClassifier(n_estimators=300, random_state = 1,n_jobs=-1, class_weight = 'balanced')\n",
    "model_res = clf.fit(X_train, y_train)\n",
    "y_pred = model_res.predict(X_test)\n",
    "y_pred_prob = model_res.predict_proba(X_test)\n",
    "lr_probs = y_pred_prob[:,1]\n",
    "rc_rf = acc_met(y_test, y_pred)\n",
    "\n",
    "f1 = f1_score(y_test, y_pred, average='weighted')\n",
    "cm = confusion_matrix(y_test, y_pred)\n",
    "\n",
    "print('Random Forest: Recall=%.3f' % (rc_rf))\n",
    "\n",
    "print(cm)"
   ]
  },
  {
   "cell_type": "code",
   "execution_count": 87,
   "metadata": {},
   "outputs": [
    {
     "data": {
      "text/plain": [
       "[(0.38580512419399426, 'age'),\n",
       " (0.19880834474147738, 'avg_glucose_level'),\n",
       " (0.1778001213845059, 'bmi'),\n",
       " (0.03231344913039271, 'hypertension_Yes'),\n",
       " (0.025734302365350358, 'heart_disease_Yes'),\n",
       " (0.023705267968413914, 'gender_Male'),\n",
       " (0.029848121168064005, 'ever_married_Yes'),\n",
       " (0.00010758828166932204, 'work_type_Never_worked'),\n",
       " (0.01814949623403722, 'work_type_Private'),\n",
       " (0.01825534551465376, 'work_type_Self-employed'),\n",
       " (0.01257682001973487, 'work_type_children'),\n",
       " (0.023542999744293105, 'Residence_type_Urban'),\n",
       " (0.01739392334680454, 'smoking_status_formerly smoked'),\n",
       " (0.019348740849450416, 'smoking_status_never smoked'),\n",
       " (0.01661035505715812, 'smoking_status_smokes')]"
      ]
     },
     "execution_count": 87,
     "metadata": {},
     "output_type": "execute_result"
    }
   ],
   "source": [
    "list(zip(clf.feature_importances_,X_test.columns))"
   ]
  },
  {
   "cell_type": "code",
   "execution_count": 89,
   "metadata": {},
   "outputs": [
    {
     "name": "stdout",
     "output_type": "stream",
     "text": [
      "age : 0, Score: 0.38581\n",
      "avg_glucose_level : 1, Score: 0.19881\n",
      "bmi : 2, Score: 0.17780\n",
      "hypertension_Yes : 3, Score: 0.03231\n",
      "heart_disease_Yes : 4, Score: 0.02573\n",
      "gender_Male : 5, Score: 0.02371\n",
      "ever_married_Yes : 6, Score: 0.02985\n",
      "work_type_Never_worked : 7, Score: 0.00011\n",
      "work_type_Private : 8, Score: 0.01815\n",
      "work_type_Self-employed : 9, Score: 0.01826\n",
      "work_type_children : 10, Score: 0.01258\n",
      "Residence_type_Urban : 11, Score: 0.02354\n",
      "smoking_status_formerly smoked : 12, Score: 0.01739\n",
      "smoking_status_never smoked : 13, Score: 0.01935\n",
      "smoking_status_smokes : 14, Score: 0.01661\n"
     ]
    },
    {
     "data": {
      "image/png": "[encoded data removed]",
      "text/plain": [
       "<Figure size 576x576 with 1 Axes>"
      ]
     },
     "metadata": {
      "needs_background": "light"
     },
     "output_type": "display_data"
    }
   ],
   "source": [
    "importance = clf.feature_importances_\n",
    "# summarize feature importance\n",
    "for i,v in enumerate(importance):\n",
    "    print(X_test.columns[i],': %0d, Score: %.5f' % (i,v))\n",
    "# plot feature importance\n",
    "pyplot.bar([x for x in range(len(importance))], importance)\n",
    "plt.xticks(ticks = [0,1,2,3,4,5,6,7,8,9,10,11,12,13, 14], labels = X_test.columns, rotation = 45)\n",
    "plt.rcParams[\"figure.figsize\"] = (8,8)\n",
    "pyplot.show()"
   ]
  },
  {
   "cell_type": "code",
   "execution_count": 91,
   "metadata": {},
   "outputs": [
    {
     "name": "stdout",
     "output_type": "stream",
     "text": [
      "[0. 0. 0. 0. 0.]\n",
      "Mean cross validation test score: 0.0\n",
      "Mean cross validation train score: 0.011942959001782532\n",
      "Standard deviation in cv scores: 0.0\n"
     ]
    }
   ],
   "source": [
    "cv_scores_test= cross_val_score(clf,X_test,y_test,cv=5,scoring='recall')\n",
    "cv_scores_train= cross_val_score(clf,X_train,y_train,cv=5,scoring='recall')\n",
    "print(cv_scores_test)\n",
    "cv_scores_rf_test= cv_scores_test.mean()\n",
    "cv_scores_rf_train= cv_scores_train.mean()\n",
    "cv_scores_std_rf= cv_scores_test.std()\n",
    "print ('Mean cross validation test score: ' +str(cv_scores_rf_test))\n",
    "print ('Mean cross validation train score: ' +str(cv_scores_rf_train))\n",
    "print ('Standard deviation in cv scores: ' +str(cv_scores_std_rf))"
   ]
  },
  {
   "cell_type": "code",
   "execution_count": 206,
   "metadata": {},
   "outputs": [],
   "source": [
    "def fit_model(X, y):\n",
    "    \"\"\" Performs grid search over the 'max_depth' parameter for a \n",
    "        decision tree regressor trained on the input data [X, y]. \"\"\"\n",
    "    \n",
    "    # Create cross-validation sets from the training data\n",
    "    # sklearn version 0.18: ShuffleSplit(n_splits=10, test_size=0.1, train_size=None, random_state=None)\n",
    "    # sklearn versiin 0.17: ShuffleSplit(n, n_iter=10, test_size=0.1, train_size=None, random_state=None)\n",
    "    cv_sets = ShuffleSplit(n_splits = 3, test_size = 0.20, random_state = 0)\n",
    "    \n",
    "    #  Create a decision tree regressor object\n",
    "    regressor = RandomForestClassifier(class_weight = 'balanced')\n",
    "\n",
    "    #  Create a dictionary for the parameter 'max_depth' with a range from 1 to 10\n",
    "    params = {'max_depth':[2,4,6,8] ,\n",
    "             'n_estimators': [10,20,50,100]}\n",
    "\n",
    "    #  Transform 'performance_metric' into a scoring function using 'make_scorer' \n",
    "    scoring_fnc = make_scorer(acc_met)\n",
    "\n",
    "    #   Create the grid search cv object --> GridSearchCV()\n",
    "    # Make sure to include the right parameters in the object:\n",
    "    # (estimator, param_grid, scoring, cv) which have values 'regressor', 'params', 'scoring_fnc', and 'cv_sets' respectively.\n",
    "    grid = GridSearchCV(estimator = regressor, param_grid = params, scoring = scoring_fnc, cv = cv_sets)\n",
    "\n",
    "    # Fit the grid search object to the data to compute the optimal model\n",
    "    grid = grid.fit(X, y)\n",
    " #   print \"Parameter 'max_depth' is {} for the optimal model.\".format(grid.get_params() )\n",
    "\n",
    "    # Return the optimal model after fitting the data\n",
    "    return grid \n",
    "\n",
    "reg = fit_model(X_train, y_train)"
   ]
  },
  {
   "cell_type": "code",
   "execution_count": 209,
   "metadata": {},
   "outputs": [
    {
     "data": {
      "image/png": "[encoded data removed]",
      "text/plain": [
       "<Figure size 576x576 with 1 Axes>"
      ]
     },
     "metadata": {
      "needs_background": "light"
     },
     "output_type": "display_data"
    }
   ],
   "source": [
    "scores = list(reg.cv_results_['mean_test_score'])\n",
    "scores = np.array(scores).reshape(4,4)\n",
    "n_estimators = [10,20,50,100]\n",
    "\n",
    "for ind, i in enumerate(scores):\n",
    "    plt.plot([2,4,6,8], scores[ind], label='N_estimators: ' + str(n_estimators[ind]))\n",
    "plt.legend()\n",
    "plt.xlabel('Max Depth')\n",
    "plt.ylabel('Mean Score')\n",
    "plt.show()"
   ]
  },
  {
   "cell_type": "markdown",
   "metadata": {},
   "source": [
    "Here we can see that the best hyperparameters for the Random Forrest model seem to be, 20 estimators and a max depth of 6"
   ]
  },
  {
   "cell_type": "code",
   "execution_count": 242,
   "metadata": {},
   "outputs": [],
   "source": [
    "clf = RandomForestClassifier(class_weight = 'balanced', max_depth = 6, n_estimators = 20)"
   ]
  },
  {
   "cell_type": "code",
   "execution_count": 243,
   "metadata": {},
   "outputs": [
    {
     "data": {
      "text/plain": [
       "RandomForestClassifier(class_weight='balanced', max_depth=6, n_estimators=20)"
      ]
     },
     "execution_count": 243,
     "metadata": {},
     "output_type": "execute_result"
    }
   ],
   "source": [
    "clf.fit(X_train, y_train)"
   ]
  },
  {
   "cell_type": "code",
   "execution_count": 244,
   "metadata": {},
   "outputs": [],
   "source": [
    "y_pred = clf.predict(X_test)"
   ]
  },
  {
   "cell_type": "code",
   "execution_count": 245,
   "metadata": {},
   "outputs": [
    {
     "data": {
      "text/plain": [
       "array([[960,  29],\n",
       "       [238,  51]])"
      ]
     },
     "execution_count": 245,
     "metadata": {},
     "output_type": "execute_result"
    }
   ],
   "source": [
    "confusion_matrix(y_pred, y_test)"
   ]
  },
  {
   "cell_type": "code",
   "execution_count": 246,
   "metadata": {},
   "outputs": [
    {
     "name": "stdout",
     "output_type": "stream",
     "text": [
      "Random Forest: Recall=1.759\n"
     ]
    }
   ],
   "source": [
    "rc_rf = acc_met(y_test, y_pred)\n",
    "print('Random Forest: Recall=%.3f' % (rc_rf))"
   ]
  },
  {
   "cell_type": "markdown",
   "metadata": {},
   "source": [
    "We can see here again that the tuning of the hyper parameters has increased the usefulness of the model. "
   ]
  },
  {
   "cell_type": "markdown",
   "metadata": {},
   "source": [
    "### Gradient Boosting"
   ]
  },
  {
   "cell_type": "code",
   "execution_count": 95,
   "metadata": {},
   "outputs": [],
   "source": [
    "from sklearn.ensemble import GradientBoostingClassifier"
   ]
  },
  {
   "cell_type": "code",
   "execution_count": 247,
   "metadata": {},
   "outputs": [],
   "source": [
    "gbc = GradientBoostingClassifier(n_estimators=300, random_state = 1)\n",
    "model_res = gbc.fit(X_train, y_train)\n",
    "y_pred = model_res.predict(X_test)\n",
    "y_pred_prob = model_res.predict_proba(X_test)\n",
    "lr_probs = y_pred_prob[:,1]\n",
    "rc_gbc = acc_met(y_test, y_pred)"
   ]
  },
  {
   "cell_type": "code",
   "execution_count": 248,
   "metadata": {},
   "outputs": [
    {
     "name": "stdout",
     "output_type": "stream",
     "text": [
      "Gradient Boosting: Recall=0.067\n",
      "Gradient Boosting: f1-score=0.913\n",
      "[[1190    8]\n",
      " [  75    5]]\n"
     ]
    }
   ],
   "source": [
    "f1 = f1_score(y_test, y_pred, average='weighted')\n",
    "cm = confusion_matrix(y_test, y_pred)\n",
    "\n",
    "print('Gradient Boosting: Recall=%.3f' % (rc_gbc))\n",
    "\n",
    "print('Gradient Boosting: f1-score=%.3f' % (f1))\n",
    "\n",
    "print(cm)"
   ]
  },
  {
   "cell_type": "code",
   "execution_count": 99,
   "metadata": {},
   "outputs": [
    {
     "data": {
      "text/plain": [
       "[(0.2872112173190213, 'age'),\n",
       " (0.4415940191929307, 'avg_glucose_level'),\n",
       " (0.14447091726146513, 'bmi'),\n",
       " (0.02264993983482276, 'hypertension_Yes'),\n",
       " (0.030351931176851213, 'heart_disease_Yes'),\n",
       " (0.005847138759424065, 'gender_Male'),\n",
       " (0.009184263100951977, 'ever_married_Yes'),\n",
       " (0.0, 'work_type_Never_worked'),\n",
       " (0.015901190891869206, 'work_type_Private'),\n",
       " (0.006499009945964643, 'work_type_Self-employed'),\n",
       " (2.7069410217801147e-06, 'work_type_children'),\n",
       " (0.004068400901768943, 'Residence_type_Urban'),\n",
       " (0.00319248154838988, 'smoking_status_formerly smoked'),\n",
       " (0.01813943807469613, 'smoking_status_never smoked'),\n",
       " (0.010887345050822419, 'smoking_status_smokes')]"
      ]
     },
     "execution_count": 99,
     "metadata": {},
     "output_type": "execute_result"
    }
   ],
   "source": [
    "list(zip(gbc.feature_importances_,X_test.columns))"
   ]
  },
  {
   "cell_type": "code",
   "execution_count": 100,
   "metadata": {},
   "outputs": [
    {
     "name": "stdout",
     "output_type": "stream",
     "text": [
      "age : 0, Score: 0.28721\n",
      "avg_glucose_level : 1, Score: 0.44159\n",
      "bmi : 2, Score: 0.14447\n",
      "hypertension_Yes : 3, Score: 0.02265\n",
      "heart_disease_Yes : 4, Score: 0.03035\n",
      "gender_Male : 5, Score: 0.00585\n",
      "ever_married_Yes : 6, Score: 0.00918\n",
      "work_type_Never_worked : 7, Score: 0.00000\n",
      "work_type_Private : 8, Score: 0.01590\n",
      "work_type_Self-employed : 9, Score: 0.00650\n",
      "work_type_children : 10, Score: 0.00000\n",
      "Residence_type_Urban : 11, Score: 0.00407\n",
      "smoking_status_formerly smoked : 12, Score: 0.00319\n",
      "smoking_status_never smoked : 13, Score: 0.01814\n",
      "smoking_status_smokes : 14, Score: 0.01089\n"
     ]
    },
    {
     "data": {
      "image/png": "[encoded data removed]",
      "text/plain": [
       "<Figure size 576x576 with 1 Axes>"
      ]
     },
     "metadata": {
      "needs_background": "light"
     },
     "output_type": "display_data"
    }
   ],
   "source": [
    "importance = gbc.feature_importances_\n",
    "# summarize feature importance\n",
    "for i,v in enumerate(importance):\n",
    "    print(X_test.columns[i],': %0d, Score: %.5f' % (i,v))\n",
    "# plot feature importance\n",
    "pyplot.bar([x for x in range(len(importance))], importance)\n",
    "plt.xticks(ticks = [0,1,2,3,4,5,6,7,8,9,10,11,12,13, 14], labels = X_test.columns, rotation = 45)\n",
    "plt.rcParams[\"figure.figsize\"] = (8,8)\n",
    "pyplot.show()"
   ]
  },
  {
   "cell_type": "code",
   "execution_count": 101,
   "metadata": {},
   "outputs": [
    {
     "name": "stdout",
     "output_type": "stream",
     "text": [
      "[0.0625 0.0625 0.0625 0.0625 0.    ]\n",
      "Mean cross validation test score: 0.05\n",
      "Mean cross validation train score: 0.03565062388591801\n",
      "Standard deviation in cv scores: 0.025\n"
     ]
    }
   ],
   "source": [
    "cv_scores_test= cross_val_score(gbc,X_test,y_test,cv=5,scoring='recall')\n",
    "cv_scores_train= cross_val_score(gbc,X_train,y_train,cv=5,scoring='recall')\n",
    "print(cv_scores_test)\n",
    "cv_scores_gbc_test= cv_scores_test.mean()\n",
    "cv_scores_gbc_train= cv_scores_train.mean()\n",
    "cv_scores_std_gbc= cv_scores_test.std()\n",
    "print ('Mean cross validation test score: ' +str(cv_scores_gbc_test))\n",
    "print ('Mean cross validation train score: ' +str(cv_scores_gbc_train))\n",
    "print ('Standard deviation in cv scores: ' +str(cv_scores_std_gbc))"
   ]
  },
  {
   "cell_type": "code",
   "execution_count": 215,
   "metadata": {},
   "outputs": [],
   "source": [
    "def fit_model(X, y):\n",
    "    \"\"\" Performs grid search over the 'max_depth' parameter for a \n",
    "        decision tree regressor trained on the input data [X, y]. \"\"\"\n",
    "    \n",
    "    # Create cross-validation sets from the training data\n",
    "    # sklearn version 0.18: ShuffleSplit(n_splits=10, test_size=0.1, train_size=None, random_state=None)\n",
    "    # sklearn versiin 0.17: ShuffleSplit(n, n_iter=10, test_size=0.1, train_size=None, random_state=None)\n",
    "    cv_sets = ShuffleSplit( n_splits = 3, test_size = 0.20, random_state = 0)\n",
    "    \n",
    "    #  Create a decision tree regressor object\n",
    "    regressor = GradientBoostingClassifier()\n",
    "\n",
    "    #  Create a dictionary for the parameter 'max_depth' with a range from 1 to 10\n",
    "    params = {\"max_depth\":[3,5,8, 12, 18],\n",
    "             \"n_estimators\":[10,30,100, 150, 170]}\n",
    "\n",
    "    #  Transform 'performance_metric' into a scoring function using 'make_scorer' \n",
    "    scoring_fnc = make_scorer(acc_met)\n",
    "\n",
    "    #   Create the grid search cv object --> GridSearchCV()\n",
    "    # Make sure to include the right parameters in the object:\n",
    "    # (estimator, param_grid, scoring, cv) which have values 'regressor', 'params', 'scoring_fnc', and 'cv_sets' respectively.\n",
    "    grid = GridSearchCV(estimator = regressor, param_grid = params, scoring = scoring_fnc, cv = cv_sets)\n",
    "\n",
    "    # Fit the grid search object to the data to compute the optimal model\n",
    "    grid = grid.fit(X, y)\n",
    " #   print \"Parameter 'max_depth' is {} for the optimal model.\".format(grid.get_params() )\n",
    "\n",
    "    # Return the optimal model after fitting the data\n",
    "    return grid \n",
    "\n"
   ]
  },
  {
   "cell_type": "code",
   "execution_count": 216,
   "metadata": {},
   "outputs": [
    {
     "name": "stdout",
     "output_type": "stream",
     "text": [
      "GridSearchCV(cv=ShuffleSplit(n_splits=3, random_state=0, test_size=0.2, train_size=None),\n",
      "             estimator=GradientBoostingClassifier(),\n",
      "             param_grid={'max_depth': [3, 5, 8, 12, 18],\n",
      "                         'n_estimators': [10, 30, 100, 150, 170]},\n",
      "             scoring=make_scorer(acc_met))\n"
     ]
    }
   ],
   "source": [
    "reg = fit_model(X_train, y_train)\n",
    "print(reg)"
   ]
  },
  {
   "cell_type": "code",
   "execution_count": 220,
   "metadata": {},
   "outputs": [
    {
     "name": "stdout",
     "output_type": "stream",
     "text": [
      "(5, 5)\n",
      "[[0.         0.         0.02020202 0.00980392 0.02020202]\n",
      " [0.         0.00877193 0.01801802 0.01801802 0.02782194]\n",
      " [0.00980392 0.01932773 0.01829574 0.         0.00952381]\n",
      " [0.04954574 0.04887888 0.06758764 0.10066179 0.11170977]\n",
      " [0.11479221 0.12733701 0.12733701 0.12733701 0.12733701]]\n",
      "[0.         0.         0.02020202 0.00980392 0.02020202]\n"
     ]
    }
   ],
   "source": [
    "print(np.array(scores).shape)\n",
    "print(scores)\n",
    "print(i)"
   ]
  },
  {
   "cell_type": "code",
   "execution_count": 222,
   "metadata": {},
   "outputs": [
    {
     "data": {
      "image/png": "[encoded data removed]",
      "text/plain": [
       "<Figure size 576x576 with 1 Axes>"
      ]
     },
     "metadata": {
      "needs_background": "light"
     },
     "output_type": "display_data"
    }
   ],
   "source": [
    "scores = list(reg.cv_results_['mean_test_score'])\n",
    "scores = np.array(scores).reshape(5,5)\n",
    "n_estimators = [10,30,100, 150, 170]\n",
    "for ind, i in enumerate(scores):\n",
    "    plt.plot([3,5,8, 12,18], scores[ind], label='N_estimators: ' + str(n_estimators[ind]))\n",
    "plt.legend()\n",
    "plt.xlabel('Max Depth')\n",
    "plt.ylabel('Mean score')\n",
    "plt.show()"
   ]
  },
  {
   "cell_type": "markdown",
   "metadata": {},
   "source": [
    "### Model Comparison"
   ]
  },
  {
   "cell_type": "code",
   "execution_count": 249,
   "metadata": {},
   "outputs": [
    {
     "name": "stdout",
     "output_type": "stream",
     "text": [
      "                      Algorithm  Model Recall score\n",
      "0                 Decision Tree            0.379310\n",
      "1                           KNN            0.038961\n",
      "2                 Random Forest            1.758621\n",
      "3  Gradient Boosting Classifier            0.066667\n"
     ]
    },
    {
     "data": {
      "text/html": [
       "<div>\n",
       "<style scoped>\n",
       "    .dataframe tbody tr th:only-of-type {\n",
       "        vertical-align: middle;\n",
       "    }\n",
       "\n",
       "    .dataframe tbody tr th {\n",
       "        vertical-align: top;\n",
       "    }\n",
       "\n",
       "    .dataframe thead th {\n",
       "        text-align: right;\n",
       "    }\n",
       "</style>\n",
       "<table border=\"1\" class=\"dataframe\">\n",
       "  <thead>\n",
       "    <tr style=\"text-align: right;\">\n",
       "      <th></th>\n",
       "      <th>Algorithm</th>\n",
       "      <th>ROC-AUC train score</th>\n",
       "      <th>ROC-AUC test score</th>\n",
       "    </tr>\n",
       "  </thead>\n",
       "  <tbody>\n",
       "    <tr>\n",
       "      <th>0</th>\n",
       "      <td>Decision Tree</td>\n",
       "      <td>0.136542</td>\n",
       "      <td>0.175</td>\n",
       "    </tr>\n",
       "    <tr>\n",
       "      <th>1</th>\n",
       "      <td>KNN</td>\n",
       "      <td>0.041533</td>\n",
       "      <td>0.025</td>\n",
       "    </tr>\n",
       "    <tr>\n",
       "      <th>2</th>\n",
       "      <td>Random Forest</td>\n",
       "      <td>0.011943</td>\n",
       "      <td>0.000</td>\n",
       "    </tr>\n",
       "    <tr>\n",
       "      <th>3</th>\n",
       "      <td>Gradient Boosting Classifier</td>\n",
       "      <td>0.035651</td>\n",
       "      <td>0.050</td>\n",
       "    </tr>\n",
       "  </tbody>\n",
       "</table>\n",
       "</div>"
      ],
      "text/plain": [
       "                      Algorithm  ROC-AUC train score  ROC-AUC test score\n",
       "0                 Decision Tree             0.136542               0.175\n",
       "1                           KNN             0.041533               0.025\n",
       "2                 Random Forest             0.011943               0.000\n",
       "3  Gradient Boosting Classifier             0.035651               0.050"
      ]
     },
     "execution_count": 249,
     "metadata": {},
     "output_type": "execute_result"
    }
   ],
   "source": [
    "myLabels = [ 'Decision Tree','KNN','Random Forest', 'Gradient Boosting Classifier']\n",
    "score_test= [ cv_scores_dt_test, cv_scores_knn_test,cv_scores_rf_test, cv_scores_gbc_test]\n",
    "score_train= [  cv_scores_dt_train,cv_scores_knn_train,cv_scores_rf_train, cv_scores_gbc_train]\n",
    "Recall_score_l = [rc_dt,rc_knn,rc_rf, rc_gbc]\n",
    "\n",
    "score_tab_acc = pd.DataFrame(list(zip(myLabels, Recall_score_l)), \n",
    "               columns =['Algorithm', 'Model Recall score']) \n",
    "\n",
    "score_tab = pd.DataFrame(list(zip(myLabels, score_train, score_test)), \n",
    "               columns =['Algorithm', 'ROC-AUC train score', 'ROC-AUC test score' ]) \n",
    "print(score_tab_acc)\n",
    "\n",
    "score_tab"
   ]
  },
  {
   "cell_type": "code",
   "execution_count": 251,
   "metadata": {},
   "outputs": [
    {
     "data": {
      "image/png": "[encoded data removed]",
      "text/plain": [
       "<Figure size 720x360 with 1 Axes>"
      ]
     },
     "metadata": {
      "needs_background": "light"
     },
     "output_type": "display_data"
    }
   ],
   "source": [
    "#plotting the Recall scores:\n",
    "\n",
    "\n",
    "index=[1,2,3,4]\n",
    "index_acc=[1.2,2.2,3.2,4.2]\n",
    "plt.figure(figsize=(10,5))\n",
    "plt.xlabel('Models',fontsize=15)\n",
    "plt.ylabel ('Model recall scores',fontsize=15)\n",
    "plt.title('Comparison of the algorithms',fontsize=15)\n",
    "#patterns = [ \"/\"]\n",
    "_=plt.bar(index_acc,Recall_score_l,color='coral',alpha=0.8,label='Recall score',edgecolor='k',width=0.3)\n",
    "plt.xticks([1, 2,3,4], myLabels)\n",
    "#plt.legend()\n",
    "plt.savefig(\"26.png\")\n",
    "plt.show()\n",
    "\n"
   ]
  },
  {
   "cell_type": "markdown",
   "metadata": {},
   "source": [
    "### Conclusions\n",
    "In order to effectively predict stroke occurance, I looked at 14 features to most accurately predict, with the most important features being age, bmi, and avg glucose level.\n",
    "This is a classification problem and used below models to identify accurate predictions\n",
    "Random Forrest Classifier\n",
    "Decision Tree\n",
    "K-Nearest Neighbor\n",
    "and Gradient Boosting Classifier\n",
    "On initial testing it seemed Gradient Boosting to be the most accurate model, after tuning the Random Forrest and Gradient Boosting model and the Decision Tree Model, I found the Decision Tree model has the highest Recall Score of 0.15. This lets\n",
    "The data was split into a test size of 0.25, and a training set of 0.75.\n",
    "\n",
    "\n",
    "\n",
    "### Improvements\n",
    "There is room for improvement in the data, there were 5110 patients yet there is room for more data. One of the reasons the recall score may be so low is there is not enough data of patients with strokes  More classification algorithms could be used to compare and determine if there is a model with more predictive power. Some features with less importance could be removed to determine if that effects the predicting power."
   ]
  }
 ],
 "metadata": {
  "kernelspec": {
   "display_name": "Python 3",
   "language": "python",
   "name": "python3"
  },
  "language_info": {
   "codemirror_mode": {
    "name": "ipython",
    "version": 3
   },
   "file_extension": ".py",
   "mimetype": "text/x-python",
   "name": "python",
   "nbconvert_exporter": "python",
   "pygments_lexer": "ipython3",
   "version": "3.8.5"
  }
 },
 "nbformat": 4,
 "nbformat_minor": 4
}
