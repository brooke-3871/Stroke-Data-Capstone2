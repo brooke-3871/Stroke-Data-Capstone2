{
 "cells": [
  {
   "cell_type": "markdown",
   "metadata": {},
   "source": [
    "# Stroke Prediction - Modeling"
   ]
  },
  {
   "cell_type": "markdown",
   "metadata": {},
   "source": [
    "## Capstone Project 1 - Brooke Hanson"
   ]
  },
  {
   "cell_type": "markdown",
   "metadata": {},
   "source": [
    "### Introduction"
   ]
  },
  {
   "cell_type": "markdown",
   "metadata": {},
   "source": [
    "### 1: The Problem "
   ]
  },
  {
   "cell_type": "markdown",
   "metadata": {},
   "source": [
    "This data was recorded in order for hospitals and healthcare practitioners to better understand the factors that most influence stroke occurance. The goal is to create a predictive model that will determine whether or not new patients will experience a stroke. This is a classification problem."
   ]
  },
  {
   "cell_type": "markdown",
   "metadata": {},
   "source": [
    "### 2: The Data"
   ]
  },
  {
   "cell_type": "markdown",
   "metadata": {},
   "source": [
    "The Kaggle hosts the original problem and the dataset in their website as one of their competitions. Here, I downloaded the data from the Kaggle website. Following are the data fields in the dataset, which we are going to read in the Pandas data frame."
   ]
  },
  {
   "cell_type": "markdown",
   "metadata": {},
   "source": [
    "- id \n",
    "- gender             \n",
    "- age                \n",
    "- hypertension         \n",
    "- heart_disease        \n",
    "- ever_married        \n",
    "- work_type           \n",
    "- Residence_type     \n",
    "- avg_glucose_level  \n",
    "- bmi                \n",
    "- smoking_status      \n",
    "- stroke"
   ]
  },
  {
   "cell_type": "markdown",
   "metadata": {},
   "source": [
    "### Importing Necessary Packages & Data"
   ]
  },
  {
   "cell_type": "code",
   "execution_count": 2,
   "metadata": {},
   "outputs": [],
   "source": [
    "import pandas as pd\n",
    "import matplotlib.pyplot as plt\n",
    "import numpy as np\n",
    "from scipy import stats\n",
    "from scipy.stats import chi2_contingency as chi2\n",
    "import seaborn as sns\n",
    "from sklearn.model_selection import train_test_split\n",
    "from sklearn.tree import DecisionTreeClassifier\n",
    "from sklearn.metrics import confusion_matrix"
   ]
  },
  {
   "cell_type": "code",
   "execution_count": 3,
   "metadata": {},
   "outputs": [],
   "source": [
    "from sklearn.tree import DecisionTreeRegressor\n",
    "from sklearn.metrics import make_scorer\n",
    "from sklearn.model_selection import GridSearchCV"
   ]
  },
  {
   "cell_type": "code",
   "execution_count": 4,
   "metadata": {},
   "outputs": [],
   "source": [
    "from sklearn.metrics import r2_score\n",
    "from sklearn.model_selection import ShuffleSplit\n",
    "from sklearn.model_selection import cross_val_score\n",
    "from sklearn.metrics import precision_score, recall_score, f1_score, accuracy_score"
   ]
  },
  {
   "cell_type": "code",
   "execution_count": 5,
   "metadata": {},
   "outputs": [],
   "source": [
    "from sklearn.metrics import precision_recall_curve\n",
    "from sklearn.metrics import f1_score\n",
    "from sklearn.metrics import auc\n",
    "from sklearn.linear_model import LogisticRegression\n",
    "from matplotlib import pyplot\n",
    "from sklearn.metrics import precision_recall_curve\n",
    "from sklearn.metrics import f1_score\n",
    "from sklearn.metrics import auc\n",
    "from sklearn.linear_model import LogisticRegression\n",
    "from sklearn.metrics import classification_report,confusion_matrix,roc_curve,roc_auc_score\n",
    "from sklearn.metrics import accuracy_score,log_loss\n",
    "from matplotlib import pyplot"
   ]
  },
  {
   "cell_type": "code",
   "execution_count": 6,
   "metadata": {},
   "outputs": [],
   "source": [
    "from sklearn.neighbors import NearestNeighbors\n",
    "from sklearn.pipeline import Pipeline\n",
    "from sklearn.neighbors import (NeighborhoodComponentsAnalysis, KNeighborsClassifier)\n",
    "from sklearn.preprocessing import scale"
   ]
  },
  {
   "cell_type": "code",
   "execution_count": 13,
   "metadata": {},
   "outputs": [
    {
     "data": {
      "text/html": [
       "<div>\n",
       "<style scoped>\n",
       "    .dataframe tbody tr th:only-of-type {\n",
       "        vertical-align: middle;\n",
       "    }\n",
       "\n",
       "    .dataframe tbody tr th {\n",
       "        vertical-align: top;\n",
       "    }\n",
       "\n",
       "    .dataframe thead th {\n",
       "        text-align: right;\n",
       "    }\n",
       "</style>\n",
       "<table border=\"1\" class=\"dataframe\">\n",
       "  <thead>\n",
       "    <tr style=\"text-align: right;\">\n",
       "      <th></th>\n",
       "      <th>id</th>\n",
       "      <th>gender</th>\n",
       "      <th>age</th>\n",
       "      <th>hypertension</th>\n",
       "      <th>heart_disease</th>\n",
       "      <th>ever_married</th>\n",
       "      <th>work_type</th>\n",
       "      <th>Residence_type</th>\n",
       "      <th>avg_glucose_level</th>\n",
       "      <th>bmi</th>\n",
       "      <th>smoking_status</th>\n",
       "      <th>stroke</th>\n",
       "    </tr>\n",
       "  </thead>\n",
       "  <tbody>\n",
       "    <tr>\n",
       "      <th>0</th>\n",
       "      <td>9046</td>\n",
       "      <td>Male</td>\n",
       "      <td>67.0</td>\n",
       "      <td>0</td>\n",
       "      <td>1</td>\n",
       "      <td>Yes</td>\n",
       "      <td>Private</td>\n",
       "      <td>Urban</td>\n",
       "      <td>228.69</td>\n",
       "      <td>36.6</td>\n",
       "      <td>formerly smoked</td>\n",
       "      <td>1</td>\n",
       "    </tr>\n",
       "    <tr>\n",
       "      <th>1</th>\n",
       "      <td>51676</td>\n",
       "      <td>Female</td>\n",
       "      <td>61.0</td>\n",
       "      <td>0</td>\n",
       "      <td>0</td>\n",
       "      <td>Yes</td>\n",
       "      <td>Self-employed</td>\n",
       "      <td>Rural</td>\n",
       "      <td>202.21</td>\n",
       "      <td>NaN</td>\n",
       "      <td>never smoked</td>\n",
       "      <td>1</td>\n",
       "    </tr>\n",
       "    <tr>\n",
       "      <th>2</th>\n",
       "      <td>31112</td>\n",
       "      <td>Male</td>\n",
       "      <td>80.0</td>\n",
       "      <td>0</td>\n",
       "      <td>1</td>\n",
       "      <td>Yes</td>\n",
       "      <td>Private</td>\n",
       "      <td>Rural</td>\n",
       "      <td>105.92</td>\n",
       "      <td>32.5</td>\n",
       "      <td>never smoked</td>\n",
       "      <td>1</td>\n",
       "    </tr>\n",
       "    <tr>\n",
       "      <th>3</th>\n",
       "      <td>60182</td>\n",
       "      <td>Female</td>\n",
       "      <td>49.0</td>\n",
       "      <td>0</td>\n",
       "      <td>0</td>\n",
       "      <td>Yes</td>\n",
       "      <td>Private</td>\n",
       "      <td>Urban</td>\n",
       "      <td>171.23</td>\n",
       "      <td>34.4</td>\n",
       "      <td>smokes</td>\n",
       "      <td>1</td>\n",
       "    </tr>\n",
       "    <tr>\n",
       "      <th>4</th>\n",
       "      <td>1665</td>\n",
       "      <td>Female</td>\n",
       "      <td>79.0</td>\n",
       "      <td>1</td>\n",
       "      <td>0</td>\n",
       "      <td>Yes</td>\n",
       "      <td>Self-employed</td>\n",
       "      <td>Rural</td>\n",
       "      <td>174.12</td>\n",
       "      <td>24.0</td>\n",
       "      <td>never smoked</td>\n",
       "      <td>1</td>\n",
       "    </tr>\n",
       "  </tbody>\n",
       "</table>\n",
       "</div>"
      ],
      "text/plain": [
       "      id  gender   age  hypertension  heart_disease ever_married  \\\n",
       "0   9046    Male  67.0             0              1          Yes   \n",
       "1  51676  Female  61.0             0              0          Yes   \n",
       "2  31112    Male  80.0             0              1          Yes   \n",
       "3  60182  Female  49.0             0              0          Yes   \n",
       "4   1665  Female  79.0             1              0          Yes   \n",
       "\n",
       "       work_type Residence_type  avg_glucose_level   bmi   smoking_status  \\\n",
       "0        Private          Urban             228.69  36.6  formerly smoked   \n",
       "1  Self-employed          Rural             202.21   NaN     never smoked   \n",
       "2        Private          Rural             105.92  32.5     never smoked   \n",
       "3        Private          Urban             171.23  34.4           smokes   \n",
       "4  Self-employed          Rural             174.12  24.0     never smoked   \n",
       "\n",
       "   stroke  \n",
       "0       1  \n",
       "1       1  \n",
       "2       1  \n",
       "3       1  \n",
       "4       1  "
      ]
     },
     "execution_count": 13,
     "metadata": {},
     "output_type": "execute_result"
    }
   ],
   "source": [
    "df = pd.read_csv('healthcare-dataset-stroke-data.csv')\n",
    "df.head()"
   ]
  },
  {
   "cell_type": "code",
   "execution_count": 14,
   "metadata": {},
   "outputs": [],
   "source": [
    "# filling NA in BMI\n",
    "# df['bmi'] = df['bmi'].replace(np.nan ,np.median(df['bmi'])) \n",
    "median_value = 28.1 # can see from info table that the median for bmi is 28.1\n",
    "df['bmi'].fillna(value=median_value, inplace=True)"
   ]
  },
  {
   "cell_type": "code",
   "execution_count": 15,
   "metadata": {},
   "outputs": [],
   "source": [
    "df['gender'] = df['gender'].replace('Other', 'Female')"
   ]
  },
  {
   "cell_type": "code",
   "execution_count": 16,
   "metadata": {},
   "outputs": [
    {
     "data": {
      "text/html": [
       "<div>\n",
       "<style scoped>\n",
       "    .dataframe tbody tr th:only-of-type {\n",
       "        vertical-align: middle;\n",
       "    }\n",
       "\n",
       "    .dataframe tbody tr th {\n",
       "        vertical-align: top;\n",
       "    }\n",
       "\n",
       "    .dataframe thead th {\n",
       "        text-align: right;\n",
       "    }\n",
       "</style>\n",
       "<table border=\"1\" class=\"dataframe\">\n",
       "  <thead>\n",
       "    <tr style=\"text-align: right;\">\n",
       "      <th></th>\n",
       "      <th>count</th>\n",
       "      <th>mean</th>\n",
       "      <th>std</th>\n",
       "      <th>min</th>\n",
       "      <th>25%</th>\n",
       "      <th>50%</th>\n",
       "      <th>75%</th>\n",
       "      <th>max</th>\n",
       "    </tr>\n",
       "  </thead>\n",
       "  <tbody>\n",
       "    <tr>\n",
       "      <th>id</th>\n",
       "      <td>5110.0</td>\n",
       "      <td>36517.829354</td>\n",
       "      <td>21161.721625</td>\n",
       "      <td>67.00</td>\n",
       "      <td>17741.250</td>\n",
       "      <td>36932.000</td>\n",
       "      <td>54682.00</td>\n",
       "      <td>72940.00</td>\n",
       "    </tr>\n",
       "    <tr>\n",
       "      <th>age</th>\n",
       "      <td>5110.0</td>\n",
       "      <td>43.226614</td>\n",
       "      <td>22.612647</td>\n",
       "      <td>0.08</td>\n",
       "      <td>25.000</td>\n",
       "      <td>45.000</td>\n",
       "      <td>61.00</td>\n",
       "      <td>82.00</td>\n",
       "    </tr>\n",
       "    <tr>\n",
       "      <th>hypertension</th>\n",
       "      <td>5110.0</td>\n",
       "      <td>0.097456</td>\n",
       "      <td>0.296607</td>\n",
       "      <td>0.00</td>\n",
       "      <td>0.000</td>\n",
       "      <td>0.000</td>\n",
       "      <td>0.00</td>\n",
       "      <td>1.00</td>\n",
       "    </tr>\n",
       "    <tr>\n",
       "      <th>heart_disease</th>\n",
       "      <td>5110.0</td>\n",
       "      <td>0.054012</td>\n",
       "      <td>0.226063</td>\n",
       "      <td>0.00</td>\n",
       "      <td>0.000</td>\n",
       "      <td>0.000</td>\n",
       "      <td>0.00</td>\n",
       "      <td>1.00</td>\n",
       "    </tr>\n",
       "    <tr>\n",
       "      <th>avg_glucose_level</th>\n",
       "      <td>5110.0</td>\n",
       "      <td>106.147677</td>\n",
       "      <td>45.283560</td>\n",
       "      <td>55.12</td>\n",
       "      <td>77.245</td>\n",
       "      <td>91.885</td>\n",
       "      <td>114.09</td>\n",
       "      <td>271.74</td>\n",
       "    </tr>\n",
       "    <tr>\n",
       "      <th>bmi</th>\n",
       "      <td>5110.0</td>\n",
       "      <td>28.862035</td>\n",
       "      <td>7.699562</td>\n",
       "      <td>10.30</td>\n",
       "      <td>23.800</td>\n",
       "      <td>28.100</td>\n",
       "      <td>32.80</td>\n",
       "      <td>97.60</td>\n",
       "    </tr>\n",
       "    <tr>\n",
       "      <th>stroke</th>\n",
       "      <td>5110.0</td>\n",
       "      <td>0.048728</td>\n",
       "      <td>0.215320</td>\n",
       "      <td>0.00</td>\n",
       "      <td>0.000</td>\n",
       "      <td>0.000</td>\n",
       "      <td>0.00</td>\n",
       "      <td>1.00</td>\n",
       "    </tr>\n",
       "  </tbody>\n",
       "</table>\n",
       "</div>"
      ],
      "text/plain": [
       "                    count          mean           std    min        25%  \\\n",
       "id                 5110.0  36517.829354  21161.721625  67.00  17741.250   \n",
       "age                5110.0     43.226614     22.612647   0.08     25.000   \n",
       "hypertension       5110.0      0.097456      0.296607   0.00      0.000   \n",
       "heart_disease      5110.0      0.054012      0.226063   0.00      0.000   \n",
       "avg_glucose_level  5110.0    106.147677     45.283560  55.12     77.245   \n",
       "bmi                5110.0     28.862035      7.699562  10.30     23.800   \n",
       "stroke             5110.0      0.048728      0.215320   0.00      0.000   \n",
       "\n",
       "                         50%       75%       max  \n",
       "id                 36932.000  54682.00  72940.00  \n",
       "age                   45.000     61.00     82.00  \n",
       "hypertension           0.000      0.00      1.00  \n",
       "heart_disease          0.000      0.00      1.00  \n",
       "avg_glucose_level     91.885    114.09    271.74  \n",
       "bmi                   28.100     32.80     97.60  \n",
       "stroke                 0.000      0.00      1.00  "
      ]
     },
     "execution_count": 16,
     "metadata": {},
     "output_type": "execute_result"
    }
   ],
   "source": [
    "df.describe().T"
   ]
  },
  {
   "cell_type": "markdown",
   "metadata": {},
   "source": [
    "### Testing and Making Model"
   ]
  },
  {
   "cell_type": "code",
   "execution_count": 17,
   "metadata": {},
   "outputs": [],
   "source": [
    "df['hypertension'] = df['hypertension'].replace({0 : 'No', 1 : 'Yes'})\n",
    "df['heart_disease'] = df['heart_disease'].replace({0: 'No', 1 : 'Yes'})\n",
    "df = df[['age', 'hypertension','heart_disease', 'avg_glucose_level','bmi','stroke','gender','ever_married','work_type','Residence_type','smoking_status']]"
   ]
  },
  {
   "cell_type": "markdown",
   "metadata": {},
   "source": [
    "#### Making Dummy Variables"
   ]
  },
  {
   "cell_type": "code",
   "execution_count": 18,
   "metadata": {},
   "outputs": [
    {
     "name": "stdout",
     "output_type": "stream",
     "text": [
      "<class 'pandas.core.frame.DataFrame'>\n",
      "RangeIndex: 5110 entries, 0 to 5109\n",
      "Data columns (total 16 columns):\n",
      " #   Column                          Non-Null Count  Dtype  \n",
      "---  ------                          --------------  -----  \n",
      " 0   age                             5110 non-null   float64\n",
      " 1   avg_glucose_level               5110 non-null   float64\n",
      " 2   bmi                             5110 non-null   float64\n",
      " 3   stroke                          5110 non-null   int64  \n",
      " 4   hypertension_Yes                5110 non-null   uint8  \n",
      " 5   heart_disease_Yes               5110 non-null   uint8  \n",
      " 6   gender_Male                     5110 non-null   uint8  \n",
      " 7   ever_married_Yes                5110 non-null   uint8  \n",
      " 8   work_type_Never_worked          5110 non-null   uint8  \n",
      " 9   work_type_Private               5110 non-null   uint8  \n",
      " 10  work_type_Self-employed         5110 non-null   uint8  \n",
      " 11  work_type_children              5110 non-null   uint8  \n",
      " 12  Residence_type_Urban            5110 non-null   uint8  \n",
      " 13  smoking_status_formerly smoked  5110 non-null   uint8  \n",
      " 14  smoking_status_never smoked     5110 non-null   uint8  \n",
      " 15  smoking_status_smokes           5110 non-null   uint8  \n",
      "dtypes: float64(3), int64(1), uint8(12)\n",
      "memory usage: 219.7 KB\n"
     ]
    }
   ],
   "source": [
    "df1 = pd.get_dummies(df, drop_first = True) \n",
    "df1.info()"
   ]
  },
  {
   "cell_type": "markdown",
   "metadata": {},
   "source": [
    "### Testing best Split size"
   ]
  },
  {
   "cell_type": "code",
   "execution_count": 19,
   "metadata": {},
   "outputs": [],
   "source": [
    "X = df1.drop('stroke', axis = 1)\n",
    "y = df1.stroke"
   ]
  },
  {
   "cell_type": "code",
   "execution_count": 22,
   "metadata": {},
   "outputs": [
    {
     "name": "stdout",
     "output_type": "stream",
     "text": [
      "Accuracy: 0.961\n",
      "Accuracy: 0.940\n",
      "Accuracy: 0.940\n",
      "Accuracy: 0.946\n",
      "Accuracy: 0.946\n",
      "Accuracy: 0.946\n"
     ]
    }
   ],
   "source": [
    "size = [0.1, 0.2, 0.25, 0.3, 0.33, 0.35]\n",
    "\n",
    "for i in size:\n",
    "    X_train, X_test, y_train, y_test = train_test_split(X, y, test_size=i, random_state=1)\n",
    "    # fit the model\n",
    "    model = RandomForestClassifier(random_state=1)\n",
    "    model.fit(X_train, y_train)\n",
    "    # make predictions\n",
    "    y_pred = model.predict(X_test)\n",
    "    # evaluate predictions\n",
    "    acc = accuracy_score(y_test, y_pred)\n",
    "    print('Accuracy: %.3f' % acc)"
   ]
  },
  {
   "cell_type": "code",
   "execution_count": 23,
   "metadata": {},
   "outputs": [],
   "source": [
    "# train test split\n",
    "X_train, X_test, y_train, y_test = train_test_split(X, y, test_size=0.10, random_state=42)"
   ]
  },
  {
   "cell_type": "code",
   "execution_count": 24,
   "metadata": {},
   "outputs": [
    {
     "data": {
      "text/plain": [
       "((4599, 15), (4599,))"
      ]
     },
     "execution_count": 24,
     "metadata": {},
     "output_type": "execute_result"
    }
   ],
   "source": [
    "X_train.shape, y_train.shape"
   ]
  },
  {
   "cell_type": "code",
   "execution_count": 25,
   "metadata": {},
   "outputs": [
    {
     "name": "stdout",
     "output_type": "stream",
     "text": [
      "<class 'pandas.core.frame.DataFrame'>\n",
      "Int64Index: 4599 entries, 346 to 860\n",
      "Data columns (total 15 columns):\n",
      " #   Column                          Non-Null Count  Dtype  \n",
      "---  ------                          --------------  -----  \n",
      " 0   age                             4599 non-null   float64\n",
      " 1   avg_glucose_level               4599 non-null   float64\n",
      " 2   bmi                             4599 non-null   float64\n",
      " 3   hypertension_Yes                4599 non-null   uint8  \n",
      " 4   heart_disease_Yes               4599 non-null   uint8  \n",
      " 5   gender_Male                     4599 non-null   uint8  \n",
      " 6   ever_married_Yes                4599 non-null   uint8  \n",
      " 7   work_type_Never_worked          4599 non-null   uint8  \n",
      " 8   work_type_Private               4599 non-null   uint8  \n",
      " 9   work_type_Self-employed         4599 non-null   uint8  \n",
      " 10  work_type_children              4599 non-null   uint8  \n",
      " 11  Residence_type_Urban            4599 non-null   uint8  \n",
      " 12  smoking_status_formerly smoked  4599 non-null   uint8  \n",
      " 13  smoking_status_never smoked     4599 non-null   uint8  \n",
      " 14  smoking_status_smokes           4599 non-null   uint8  \n",
      "dtypes: float64(3), uint8(12)\n",
      "memory usage: 197.6 KB\n"
     ]
    }
   ],
   "source": [
    "X_train.info()"
   ]
  },
  {
   "cell_type": "markdown",
   "metadata": {},
   "source": [
    "### Decision Tree Model"
   ]
  },
  {
   "cell_type": "code",
   "execution_count": 26,
   "metadata": {},
   "outputs": [
    {
     "data": {
      "text/plain": [
       "DecisionTreeClassifier(class_weight='balanced', random_state=0)"
      ]
     },
     "execution_count": 26,
     "metadata": {},
     "output_type": "execute_result"
    }
   ],
   "source": [
    "clf = DecisionTreeClassifier(class_weight = 'balanced',random_state=0)\n",
    "clf.fit(X_train ,y_train)"
   ]
  },
  {
   "cell_type": "code",
   "execution_count": 27,
   "metadata": {},
   "outputs": [],
   "source": [
    "pred_test = clf.predict(X_test)"
   ]
  },
  {
   "cell_type": "code",
   "execution_count": 28,
   "metadata": {},
   "outputs": [
    {
     "data": {
      "text/plain": [
       "array([[464,  27],\n",
       "       [ 19,   1]])"
      ]
     },
     "execution_count": 28,
     "metadata": {},
     "output_type": "execute_result"
    }
   ],
   "source": [
    "confusion_matrix(pred_test, y_test)"
   ]
  },
  {
   "cell_type": "code",
   "execution_count": 29,
   "metadata": {},
   "outputs": [
    {
     "data": {
      "text/plain": [
       "[(0.4463323129200995, 'age'),\n",
       " (0.2229252678575099, 'avg_glucose_level'),\n",
       " (0.16679252610196643, 'bmi'),\n",
       " (0.024725569847581837, 'hypertension_Yes'),\n",
       " (0.020822312031021875, 'heart_disease_Yes'),\n",
       " (0.02128329584366639, 'gender_Male'),\n",
       " (0.01886342615089682, 'ever_married_Yes'),\n",
       " (0.0, 'work_type_Never_worked'),\n",
       " (0.01606889440903949, 'work_type_Private'),\n",
       " (0.016290247595345614, 'work_type_Self-employed'),\n",
       " (0.0, 'work_type_children'),\n",
       " (0.006415820967935133, 'Residence_type_Urban'),\n",
       " (0.019046690431450936, 'smoking_status_formerly smoked'),\n",
       " (0.010483116744207927, 'smoking_status_never smoked'),\n",
       " (0.009950519099278275, 'smoking_status_smokes')]"
      ]
     },
     "execution_count": 29,
     "metadata": {},
     "output_type": "execute_result"
    }
   ],
   "source": [
    "list(zip(clf.feature_importances_,X_test.columns))"
   ]
  },
  {
   "cell_type": "code",
   "execution_count": 30,
   "metadata": {},
   "outputs": [
    {
     "name": "stdout",
     "output_type": "stream",
     "text": [
      "Feature: 0, Score: 0.44633\n",
      "Feature: 1, Score: 0.22293\n",
      "Feature: 2, Score: 0.16679\n",
      "Feature: 3, Score: 0.02473\n",
      "Feature: 4, Score: 0.02082\n",
      "Feature: 5, Score: 0.02128\n",
      "Feature: 6, Score: 0.01886\n",
      "Feature: 7, Score: 0.00000\n",
      "Feature: 8, Score: 0.01607\n",
      "Feature: 9, Score: 0.01629\n",
      "Feature: 10, Score: 0.00000\n",
      "Feature: 11, Score: 0.00642\n",
      "Feature: 12, Score: 0.01905\n",
      "Feature: 13, Score: 0.01048\n",
      "Feature: 14, Score: 0.00995\n"
     ]
    },
    {
     "data": {
      "image/png": "[encoded data removed]",
      "text/plain": [
       "<Figure size 432x288 with 1 Axes>"
      ]
     },
     "metadata": {
      "needs_background": "light"
     },
     "output_type": "display_data"
    }
   ],
   "source": [
    "importance = clf.feature_importances_\n",
    "# summarize feature importance\n",
    "for i,v in enumerate(importance):\n",
    "\tprint('Feature: %0d, Score: %.5f' % (i,v))\n",
    "# plot feature importance\n",
    "pyplot.bar([x for x in range(len(importance))], importance)\n",
    "pyplot.show()"
   ]
  },
  {
   "cell_type": "code",
   "execution_count": 31,
   "metadata": {},
   "outputs": [
    {
     "name": "stdout",
     "output_type": "stream",
     "text": [
      "[0.53178694 0.5742268  0.5742268  0.48958333 0.5625    ]\n",
      "Mean cross validation test score: 0.5464647766323024\n",
      "Mean cross validation train score: 0.5391835181561209\n",
      "Standard deviation in cv scores: 0.032402241165986286\n"
     ]
    }
   ],
   "source": [
    "cv_scores_test= cross_val_score(clf,X_test,y_test,cv=5,scoring='roc_auc')\n",
    "cv_scores_train= cross_val_score(clf,X_train,y_train,cv=5,scoring='roc_auc')\n",
    "print(cv_scores_test)\n",
    "cv_scores_dt_test= cv_scores_test.mean()\n",
    "cv_scores_dt_train= cv_scores_train.mean()\n",
    "cv_scores_std_dt= cv_scores_test.std()\n",
    "print ('Mean cross validation test score: ' +str(cv_scores_dt_test))\n",
    "print ('Mean cross validation train score: ' +str(cv_scores_dt_train))\n",
    "print ('Standard deviation in cv scores: ' +str(cv_scores_std_dt))"
   ]
  },
  {
   "cell_type": "code",
   "execution_count": 33,
   "metadata": {},
   "outputs": [
    {
     "name": "stdout",
     "output_type": "stream",
     "text": [
      "[[464  19]\n",
      " [ 27   1]]\n",
      "0.9099804305283757\n"
     ]
    }
   ],
   "source": [
    "cnf_matrix = confusion_matrix(y_test, pred_test)\n",
    "print(cnf_matrix)\n",
    "Accuracy_dt=clf.score(X_test,y_test)\n",
    "print(Accuracy_dt)"
   ]
  },
  {
   "cell_type": "markdown",
   "metadata": {},
   "source": [
    "### K Nearest Neighbor"
   ]
  },
  {
   "cell_type": "code",
   "execution_count": 35,
   "metadata": {},
   "outputs": [
    {
     "name": "stdout",
     "output_type": "stream",
     "text": [
      "0.9295499021526419\n"
     ]
    }
   ],
   "source": [
    "# normalize any other non categorical variables, can standardize by max and min\n",
    "# look at hyper parameters in grid search\n",
    "# see performance decrease with overfitting\n",
    "# for each model i chose find optimal hyperparameter\n",
    "# and explain meaning of hyperparameter i chose but not too many \n",
    "# for decision start with max depth\n",
    "# for random forest do 20 50 80 scale for optimizing\n",
    "\n",
    "# not scaled\n",
    "\n",
    "X_train, X_test, y_train, y_test = train_test_split(X, y, test_size=0.2, random_state=42)\n",
    "nca = NeighborhoodComponentsAnalysis(random_state=42)\n",
    "knn = KNeighborsClassifier(n_neighbors=3)\n",
    "nca_pipe = Pipeline([('nca', nca), ('knn', knn)])\n",
    "nca_pipe.fit(X_train, y_train)\n",
    "\n",
    "print(nca_pipe.score(X_test, y_test))"
   ]
  },
  {
   "cell_type": "code",
   "execution_count": 36,
   "metadata": {},
   "outputs": [
    {
     "name": "stdout",
     "output_type": "stream",
     "text": [
      "0.9334637964774951\n"
     ]
    }
   ],
   "source": [
    "Xs = scale(X)\n",
    "Xs_train, Xs_test, y_train, y_test = train_test_split(Xs, y, test_size=0.2, random_state=42)\n",
    "nca = NeighborhoodComponentsAnalysis(random_state=42)\n",
    "knn = KNeighborsClassifier(n_neighbors=3)\n",
    "nca_pipe = Pipeline([('nca', nca), ('knn', knn)])\n",
    "nca_pipe.fit(Xs_train, y_train)\n",
    "\n",
    "print(nca_pipe.score(Xs_test, y_test))"
   ]
  },
  {
   "cell_type": "code",
   "execution_count": 37,
   "metadata": {},
   "outputs": [
    {
     "name": "stdout",
     "output_type": "stream",
     "text": [
      "[0.59415064 0.64503205 0.63389757 0.79882812 0.64822049]\n",
      "Mean cross validation test score: 0.6640257745726496\n",
      "Mean cross validation train score: 0.5893343726942689\n",
      "Standard deviation in cv scores: 0.07010347406653955\n"
     ]
    }
   ],
   "source": [
    "from sklearn.model_selection import cross_val_score\n",
    "#unscaled train test\n",
    "cv_scores_test= cross_val_score(knn,X_test,y_test,cv=5,scoring='roc_auc')\n",
    "cv_scores_train= cross_val_score(knn,X_train,y_train,cv=5,scoring='roc_auc')\n",
    "print(cv_scores_test)\n",
    "cv_scores_knn_test= cv_scores_test.mean()\n",
    "cv_scores_knn_train= cv_scores_train.mean()\n",
    "cv_scores_std_knn= cv_scores_test.std()\n",
    "print ('Mean cross validation test score: ' +str(cv_scores_knn_test))\n",
    "print ('Mean cross validation train score: ' +str(cv_scores_knn_train))\n",
    "print ('Standard deviation in cv scores: ' +str(cv_scores_std_knn))"
   ]
  },
  {
   "cell_type": "code",
   "execution_count": 38,
   "metadata": {},
   "outputs": [
    {
     "name": "stdout",
     "output_type": "stream",
     "text": [
      "[0.44391026 0.49719551 0.60438368 0.44010417 0.57986111]\n",
      "Mean cross validation test score: 0.5130909455128204\n",
      "Mean cross validation train score: 0.5617217988437411\n",
      "Standard deviation in cv scores: 0.06805633092831971\n"
     ]
    }
   ],
   "source": [
    "#scaled train test\n",
    "cv_scores_test= cross_val_score(knn,Xs_test,y_test,cv=5,scoring='roc_auc')\n",
    "cv_scores_train= cross_val_score(knn,Xs_train,y_train,cv=5,scoring='roc_auc')\n",
    "print(cv_scores_test)\n",
    "cv_scores_knn_test= cv_scores_test.mean()\n",
    "cv_scores_knn_train= cv_scores_train.mean()\n",
    "cv_scores_std_knn= cv_scores_test.std()\n",
    "print ('Mean cross validation test score: ' +str(cv_scores_knn_test))\n",
    "print ('Mean cross validation train score: ' +str(cv_scores_knn_train))\n",
    "print ('Standard deviation in cv scores: ' +str(cv_scores_std_knn))"
   ]
  },
  {
   "cell_type": "code",
   "execution_count": 40,
   "metadata": {},
   "outputs": [
    {
     "name": "stdout",
     "output_type": "stream",
     "text": [
      "0.9393346379647749\n"
     ]
    }
   ],
   "source": [
    "#cnf_matrix = confusion_matrix(y_test, y_pred)\n",
    "#print(cnf_matrix)\n",
    "Accuracy_knn=knn.score(X_test,y_test)\n",
    "print(Accuracy_knn)"
   ]
  },
  {
   "cell_type": "markdown",
   "metadata": {},
   "source": [
    "### Random Forrest"
   ]
  },
  {
   "cell_type": "code",
   "execution_count": 41,
   "metadata": {},
   "outputs": [
    {
     "name": "stdout",
     "output_type": "stream",
     "text": [
      "Random Forest: Recall=0.000\n",
      "Random Forest: f1-score=0.910\n",
      "[[960   0]\n",
      " [ 62   0]]\n"
     ]
    }
   ],
   "source": [
    "# recall\n",
    "from sklearn.ensemble import RandomForestClassifier\n",
    "clf = RandomForestClassifier(n_estimators=300, random_state = 1,n_jobs=-1)\n",
    "model_res = clf.fit(X_train, y_train)\n",
    "y_pred = model_res.predict(X_test)\n",
    "y_pred_prob = model_res.predict_proba(X_test)\n",
    "lr_probs = y_pred_prob[:,1]\n",
    "rc = recall_score(y_test, y_pred)\n",
    "\n",
    "f1 = f1_score(y_test, y_pred, average='weighted')\n",
    "cm = confusion_matrix(y_test, y_pred)\n",
    "\n",
    "print('Random Forest: Recall=%.3f' % (rc))\n",
    "\n",
    "print('Random Forest: f1-score=%.3f' % (f1))\n",
    "\n",
    "print(cm)"
   ]
  },
  {
   "cell_type": "code",
   "execution_count": 42,
   "metadata": {},
   "outputs": [
    {
     "name": "stdout",
     "output_type": "stream",
     "text": [
      "[[960   0]\n",
      " [ 62   0]]\n",
      "0.9393346379647749\n"
     ]
    }
   ],
   "source": [
    "cnf_matrix = confusion_matrix(y_test, y_pred)\n",
    "print(cnf_matrix)\n",
    "Accuracy_rf=clf.score(X_test,y_test)\n",
    "print(Accuracy_rf)"
   ]
  },
  {
   "cell_type": "code",
   "execution_count": 43,
   "metadata": {},
   "outputs": [
    {
     "data": {
      "text/plain": [
       "[(0.24811996079858667, 'age'),\n",
       " (0.2740759567924639, 'avg_glucose_level'),\n",
       " (0.23467593896247133, 'bmi'),\n",
       " (0.026413487706809034, 'hypertension_Yes'),\n",
       " (0.024411704388851773, 'heart_disease_Yes'),\n",
       " (0.03289472516240092, 'gender_Male'),\n",
       " (0.018795183841477183, 'ever_married_Yes'),\n",
       " (2.950613074750369e-05, 'work_type_Never_worked'),\n",
       " (0.02425354389862407, 'work_type_Private'),\n",
       " (0.018197737528560725, 'work_type_Self-employed'),\n",
       " (0.0013973408667473989, 'work_type_children'),\n",
       " (0.032498807440159094, 'Residence_type_Urban'),\n",
       " (0.019492646402351124, 'smoking_status_formerly smoked'),\n",
       " (0.025241099015619328, 'smoking_status_never smoked'),\n",
       " (0.019502361064129954, 'smoking_status_smokes')]"
      ]
     },
     "execution_count": 43,
     "metadata": {},
     "output_type": "execute_result"
    }
   ],
   "source": [
    "list(zip(clf.feature_importances_,X_test.columns))\n",
    "#X_test.shape"
   ]
  },
  {
   "cell_type": "code",
   "execution_count": 44,
   "metadata": {},
   "outputs": [
    {
     "name": "stdout",
     "output_type": "stream",
     "text": [
      "Feature: 0, Score: 0.24812\n",
      "Feature: 1, Score: 0.27408\n",
      "Feature: 2, Score: 0.23468\n",
      "Feature: 3, Score: 0.02641\n",
      "Feature: 4, Score: 0.02441\n",
      "Feature: 5, Score: 0.03289\n",
      "Feature: 6, Score: 0.01880\n",
      "Feature: 7, Score: 0.00003\n",
      "Feature: 8, Score: 0.02425\n",
      "Feature: 9, Score: 0.01820\n",
      "Feature: 10, Score: 0.00140\n",
      "Feature: 11, Score: 0.03250\n",
      "Feature: 12, Score: 0.01949\n",
      "Feature: 13, Score: 0.02524\n",
      "Feature: 14, Score: 0.01950\n"
     ]
    },
    {
     "data": {
      "image/png": "[encoded data removed]",
      "text/plain": [
       "<Figure size 432x288 with 1 Axes>"
      ]
     },
     "metadata": {
      "needs_background": "light"
     },
     "output_type": "display_data"
    }
   ],
   "source": [
    "importance = clf.feature_importances_\n",
    "# summarize feature importance\n",
    "for i,v in enumerate(importance):\n",
    "\tprint('Feature: %0d, Score: %.5f' % (i,v))\n",
    "# plot feature importance\n",
    "pyplot.bar([x for x in range(len(importance))], importance)\n",
    "pyplot.show()"
   ]
  },
  {
   "cell_type": "code",
   "execution_count": 45,
   "metadata": {},
   "outputs": [
    {
     "name": "stdout",
     "output_type": "stream",
     "text": [
      "[0.82071314 0.72576122 0.74327257 0.85503472 0.84570312]\n",
      "Mean cross validation test score: 0.7980969551282051\n",
      "Mean cross validation train score: 0.8012109779641285\n",
      "Standard deviation in cv scores: 0.05340022609495899\n"
     ]
    }
   ],
   "source": [
    "cv_scores_test= cross_val_score(clf,X_test,y_test,cv=5,scoring='roc_auc')\n",
    "cv_scores_train= cross_val_score(clf,X_train,y_train,cv=5,scoring='roc_auc')\n",
    "print(cv_scores_test)\n",
    "cv_scores_rf_test= cv_scores_test.mean()\n",
    "cv_scores_rf_train= cv_scores_train.mean()\n",
    "cv_scores_std_rf= cv_scores_test.std()\n",
    "print ('Mean cross validation test score: ' +str(cv_scores_rf_test))\n",
    "print ('Mean cross validation train score: ' +str(cv_scores_rf_train))\n",
    "print ('Standard deviation in cv scores: ' +str(cv_scores_std_rf))"
   ]
  },
  {
   "cell_type": "markdown",
   "metadata": {},
   "source": [
    "### Naive Bayes"
   ]
  },
  {
   "cell_type": "code",
   "execution_count": 46,
   "metadata": {},
   "outputs": [],
   "source": [
    "from sklearn.naive_bayes import GaussianNB\n",
    "from sklearn.metrics import recall_score"
   ]
  },
  {
   "cell_type": "code",
   "execution_count": 47,
   "metadata": {},
   "outputs": [
    {
     "name": "stdout",
     "output_type": "stream",
     "text": [
      "Number of mislabeled points out of a total 1022 points : 464\n"
     ]
    }
   ],
   "source": [
    "gnb = GaussianNB()\n",
    "y_pred = gnb.fit(X_train, y_train).predict(X_test)\n",
    "print(\"Number of mislabeled points out of a total %d points : %d\"\n",
    "      % (X_test.shape[0], (y_test != y_pred).sum()))"
   ]
  },
  {
   "cell_type": "code",
   "execution_count": 48,
   "metadata": {},
   "outputs": [
    {
     "name": "stdout",
     "output_type": "stream",
     "text": [
      "Number of mislabeled points out of a total 1022 points : 717\n"
     ]
    }
   ],
   "source": [
    "y_pred = gnb.fit(Xs_train, y_train).predict(Xs_test)\n",
    "print(\"Number of mislabeled points out of a total %d points : %d\"\n",
    "      % (Xs_test.shape[0], (y_test != y_pred).sum()))"
   ]
  },
  {
   "cell_type": "code",
   "execution_count": 49,
   "metadata": {},
   "outputs": [
    {
     "name": "stdout",
     "output_type": "stream",
     "text": [
      "[[243 717]\n",
      " [  0  62]]\n",
      "0.9393346379647749\n"
     ]
    }
   ],
   "source": [
    "cnf_matrix = confusion_matrix(y_test, y_pred)\n",
    "print(cnf_matrix)\n",
    "Accuracy_nb=gnb.score(X_test,y_test)\n",
    "print(Accuracy_nb)"
   ]
  },
  {
   "cell_type": "code",
   "execution_count": 50,
   "metadata": {},
   "outputs": [
    {
     "name": "stdout",
     "output_type": "stream",
     "text": [
      "[0.7588141  0.76362179 0.78385417 0.88975694 0.88237847]\n",
      "Mean cross validation test score: 0.815685096153846\n",
      "Mean cross validation train score: 0.8020038685494579\n",
      "Standard deviation in cv scores: 0.05812529646353869\n"
     ]
    }
   ],
   "source": [
    "# unscaled data\n",
    "cv_scores_test= cross_val_score(gnb,X_test,y_test,cv=5,scoring='roc_auc')\n",
    "cv_scores_train= cross_val_score(gnb,X_train,y_train,cv=5,scoring='roc_auc')\n",
    "print(cv_scores_test)\n",
    "cv_scores_nb_test= cv_scores_test.mean()\n",
    "cv_scores_nb_train= cv_scores_train.mean()\n",
    "cv_scores_std_nb= cv_scores_test.std()\n",
    "print ('Mean cross validation test score: ' +str(cv_scores_nb_test))\n",
    "print ('Mean cross validation train score: ' +str(cv_scores_nb_train))\n",
    "print ('Standard deviation in cv scores: ' +str(cv_scores_std_nb))"
   ]
  },
  {
   "cell_type": "code",
   "execution_count": 51,
   "metadata": {},
   "outputs": [
    {
     "name": "stdout",
     "output_type": "stream",
     "text": [
      "[0.7588141  0.76362179 0.78385417 0.88975694 0.88237847]\n",
      "Mean cross validation test score: 0.815685096153846\n",
      "Mean cross validation train score: 0.8020038685494579\n",
      "Standard deviation in cv scores: 0.05812529646353869\n"
     ]
    }
   ],
   "source": [
    "#scaled data\n",
    "cv_scores_test= cross_val_score(gnb,Xs_test,y_test,cv=5,scoring='roc_auc')\n",
    "cv_scores_train= cross_val_score(gnb,Xs_train,y_train,cv=5,scoring='roc_auc')\n",
    "print(cv_scores_test)\n",
    "cv_scores_nb_test= cv_scores_test.mean()\n",
    "cv_scores_nb_train= cv_scores_train.mean()\n",
    "cv_scores_std_nb= cv_scores_test.std()\n",
    "print ('Mean cross validation test score: ' +str(cv_scores_nb_test))\n",
    "print ('Mean cross validation train score: ' +str(cv_scores_nb_train))\n",
    "print ('Standard deviation in cv scores: ' +str(cv_scores_std_nb))"
   ]
  },
  {
   "cell_type": "markdown",
   "metadata": {},
   "source": [
    "### Model Comparison"
   ]
  },
  {
   "cell_type": "code",
   "execution_count": 52,
   "metadata": {},
   "outputs": [
    {
     "name": "stdout",
     "output_type": "stream",
     "text": [
      "       Algorithm  Model accuracy score\n",
      "0  Decision Tree              0.909980\n",
      "1            KNN              0.939335\n",
      "2  Random Forest              0.939335\n",
      "3    Naive Bayes              0.939335\n"
     ]
    },
    {
     "data": {
      "text/html": [
       "<div>\n",
       "<style scoped>\n",
       "    .dataframe tbody tr th:only-of-type {\n",
       "        vertical-align: middle;\n",
       "    }\n",
       "\n",
       "    .dataframe tbody tr th {\n",
       "        vertical-align: top;\n",
       "    }\n",
       "\n",
       "    .dataframe thead th {\n",
       "        text-align: right;\n",
       "    }\n",
       "</style>\n",
       "<table border=\"1\" class=\"dataframe\">\n",
       "  <thead>\n",
       "    <tr style=\"text-align: right;\">\n",
       "      <th></th>\n",
       "      <th>Algorithm</th>\n",
       "      <th>ROC-AUC train score</th>\n",
       "      <th>ROC-AUC test score</th>\n",
       "    </tr>\n",
       "  </thead>\n",
       "  <tbody>\n",
       "    <tr>\n",
       "      <th>0</th>\n",
       "      <td>Decision Tree</td>\n",
       "      <td>0.539184</td>\n",
       "      <td>0.546465</td>\n",
       "    </tr>\n",
       "    <tr>\n",
       "      <th>1</th>\n",
       "      <td>KNN</td>\n",
       "      <td>0.561722</td>\n",
       "      <td>0.513091</td>\n",
       "    </tr>\n",
       "    <tr>\n",
       "      <th>2</th>\n",
       "      <td>Random Forest</td>\n",
       "      <td>0.801211</td>\n",
       "      <td>0.798097</td>\n",
       "    </tr>\n",
       "    <tr>\n",
       "      <th>3</th>\n",
       "      <td>Naive Bayes</td>\n",
       "      <td>0.802004</td>\n",
       "      <td>0.815685</td>\n",
       "    </tr>\n",
       "  </tbody>\n",
       "</table>\n",
       "</div>"
      ],
      "text/plain": [
       "       Algorithm  ROC-AUC train score  ROC-AUC test score\n",
       "0  Decision Tree             0.539184            0.546465\n",
       "1            KNN             0.561722            0.513091\n",
       "2  Random Forest             0.801211            0.798097\n",
       "3    Naive Bayes             0.802004            0.815685"
      ]
     },
     "execution_count": 52,
     "metadata": {},
     "output_type": "execute_result"
    }
   ],
   "source": [
    "myLabels = [ 'Decision Tree','KNN','Random Forest', 'Naive Bayes']\n",
    "score_test= [ cv_scores_dt_test, cv_scores_knn_test,cv_scores_rf_test,cv_scores_nb_test]\n",
    "score_train= [  cv_scores_dt_train,cv_scores_knn_train,cv_scores_rf_train,cv_scores_nb_train]\n",
    "Accuracy_score = [Accuracy_dt,Accuracy_knn,Accuracy_rf,Accuracy_nb]\n",
    "\n",
    "score_tab_acc = pd.DataFrame(list(zip(myLabels, Accuracy_score)), \n",
    "               columns =['Algorithm', 'Model accuracy score']) \n",
    "\n",
    "score_tab = pd.DataFrame(list(zip(myLabels, score_train, score_test)), \n",
    "               columns =['Algorithm', 'ROC-AUC train score', 'ROC-AUC test score' ]) \n",
    "print(score_tab_acc)\n",
    "\n",
    "score_tab"
   ]
  },
  {
   "cell_type": "code",
   "execution_count": 53,
   "metadata": {},
   "outputs": [
    {
     "data": {
      "image/png": "[encoded data removed]",
      "text/plain": [
       "<Figure size 720x360 with 1 Axes>"
      ]
     },
     "metadata": {
      "needs_background": "light"
     },
     "output_type": "display_data"
    },
    {
     "data": {
      "image/png": "[encoded data removed]",
      "text/plain": [
       "<Figure size 720x360 with 1 Axes>"
      ]
     },
     "metadata": {
      "needs_background": "light"
     },
     "output_type": "display_data"
    }
   ],
   "source": [
    "#plotting the accuracy scores:\n",
    "\n",
    "\n",
    "index=[1,2,3,4]\n",
    "index_acc=[1.2,2.2,3.2,4.2]\n",
    "plt.figure(figsize=(10,5))\n",
    "plt.xlabel('Models',fontsize=15)\n",
    "plt.ylabel ('Model accuracy scores',fontsize=15)\n",
    "plt.title('Comparison of the algorithms',fontsize=15)\n",
    "#patterns = [ \"/\"]\n",
    "_=plt.bar(index_acc,Accuracy_score,color='coral',alpha=0.8,label='Accuracy score',edgecolor='k',width=0.3)\n",
    "plt.xticks([1, 2,3,4], myLabels)\n",
    "#plt.legend()\n",
    "plt.savefig(\"26.png\")\n",
    "plt.show()\n",
    "\n",
    "#plotting and comparing ROC-AUC train/test scores:\n",
    "\n",
    "index=[1,2,3,4]\n",
    "index_acc=[1.2,2.2,3.2,4.2]\n",
    "plt.figure(figsize=(10,5))\n",
    "plt.xlabel('Models',fontsize=15)\n",
    "plt.ylabel ('ROC-AUC scores',fontsize=15)\n",
    "plt.title('Comparison of the algorithms',fontsize=15)\n",
    "_=plt.bar(index,score_train,color='b',alpha=0.6,label='Validation score',edgecolor='k',width=0.2)\n",
    "_=plt.bar(index_acc,score_test,color='cyan',alpha=0.8,label='Test score',edgecolor='k',width=0.2)\n",
    "plt.xticks([1,2,3,4], myLabels)\n",
    "plt.legend()\n",
    "plt.savefig(\"27.png\")\n",
    "plt.show()"
   ]
  },
  {
   "cell_type": "markdown",
   "metadata": {},
   "source": [
    "Hyperparameter tuning for Random Forrest\n",
    "\n",
    "\n",
    "\n",
    "\n",
    "0.9547455315988708\n",
    "In [129]:\n",
    "\n",
    "\n",
    "0.2984344422700587\n",
    "0.8115217681623932\n",
    "In [131]:\n",
    "\n",
    "\n",
    "​\n",
    "\n",
    "                          Features  Importance scores\n",
    "0                              age           0.000120\n",
    "1                avg_glucose_level           0.005540\n",
    "2                              bmi           0.016601\n",
    "3                 hypertension_Yes           0.018525\n",
    "4                heart_disease_Yes           0.019848\n",
    "5                      gender_Male           0.023020\n",
    "6                 ever_married_Yes           0.023437\n",
    "7           work_type_Never_worked           0.024335\n",
    "8                work_type_Private           0.024635\n",
    "9          work_type_Self-employed           0.027808\n",
    "10              work_type_children           0.028696\n",
    "11            Residence_type_Urban           0.028973\n",
    "12  smoking_status_formerly smoked           0.212069\n",
    "13     smoking_status_never smoked           0.244802\n",
    "14           smoking_status_smokes           0.301589\n",
    "\n",
    "In [132]:\n",
    "\n",
    "\n",
    "ROC-AUC Score: 0.8432963709677419\n",
    "In [133]:\n",
    "\n",
    "\n",
    "\n",
    "Compare tuned Random Forrest to Naive Bayes\n",
    "In [134]:\n",
    "\n",
    "\n",
    "[0.80909455 0.75220353 0.79340278 0.859375   0.84353299]\n",
    "Mean cross validation test score: 0.8115217681623932\n",
    "Mean cross validation train score: 0.7800519277669018\n",
    "Standard deviation in cv scores: 0.03786157144659964\n",
    "In [135]:\n",
    "\n",
    "\n",
    "​\n",
    "score_tab\n",
    "       Algorithm  Model accuracy score\n",
    "0  Random Forest              0.939335\n",
    "1    Naive Bayes              0.939335\n",
    "Out[135]:\n",
    "Algorithm\tROC-AUC train score\tROC-AUC test score\n",
    "0\tRandom Forest\t0.780052\t0.811522\n",
    "1\tNaive Bayes\t0.802004\t0.815685\n",
    "In [137]:\n",
    "\n",
    "​\n",
    "\n",
    "​\n",
    "#plotting and comparing ROC-AUC train/test scores:\n",
    "​\n",
    "\n",
    "\n",
    "\n",
    "Conclusions\n",
    "In order to effectively predict stroke occurance, I looked at 14 features to most accurately predict, with the most important features being age, bmi, and avg glucose level.\n",
    "This is a classification problem and used below models to identify accurate predictions\n",
    "Random Forrest Classifier\n",
    "Naive Bayes\n",
    "Decision Tree\n",
    "K-Nearest Neighbor\n",
    "On initial testing it seemed Naive Bayes was the most accurate model, after tuning the Random Forrest model, I found their accurate prediction power was comperable.\n",
    "The data was split into a test size of 0.30, and a training set of 0.7, this was decided by comparing accuracy of multiple test sizes finding 0.3 was the size that yielded best results.\n",
    "After tuning the Random Forrest model, the model accuracy for both the Naive Bayes and Random Forrest both had scores of 0.939355\n",
    "Improvements\n",
    "There is room for improvement in the data, there were 5110 patients yet there is room for more data. More classification algorithms could be used to compare and determine if there is a model with more predictive power. Some features with less importance could be removed to determine if that effects the predicting power."
   ]
  },
  {
   "cell_type": "code",
   "execution_count": 54,
   "metadata": {},
   "outputs": [
    {
     "name": "stdout",
     "output_type": "stream",
     "text": [
      "RandomForestClassifier(criterion='entropy', n_jobs=-1, random_state=1)\n",
      "0.9547455315988708\n"
     ]
    }
   ],
   "source": [
    "from sklearn.model_selection import GridSearchCV\n",
    "\n",
    "rf = RandomForestClassifier(max_features='auto',random_state=1, n_jobs=-1)\n",
    "\n",
    "param_grid = { \"criterion\" : [\"gini\", \"entropy\"], \"min_samples_leaf\" : [1, 5, 10], \"min_samples_split\" : [2, 4, 10,12,16], \"n_estimators\": [50, 100,400,700,1000]}\n",
    "\n",
    "gs = GridSearchCV(estimator=rf, param_grid=param_grid, scoring='accuracy', cv=3, n_jobs=-1)\n",
    "\n",
    "gs = gs.fit(X_train, y_train)\n",
    "\n",
    "print(gs.best_estimator_) \n",
    "print(gs.best_score_)"
   ]
  },
  {
   "cell_type": "code",
   "execution_count": 55,
   "metadata": {},
   "outputs": [
    {
     "data": {
      "text/plain": [
       "RandomForestClassifier(criterion='entropy', n_jobs=-1, random_state=1)"
      ]
     },
     "execution_count": 55,
     "metadata": {},
     "output_type": "execute_result"
    }
   ],
   "source": [
    "RandomForestClassifier(criterion='entropy', n_jobs=-1, random_state=1)"
   ]
  },
  {
   "cell_type": "code",
   "execution_count": 56,
   "metadata": {},
   "outputs": [
    {
     "name": "stdout",
     "output_type": "stream",
     "text": [
      "0.2984344422700587\n",
      "0.8115217681623932\n"
     ]
    }
   ],
   "source": [
    "rf = RandomForestClassifier(criterion='entropy', n_jobs=-1, random_state=1)\n",
    "rf.fit(X_train, y_train)\n",
    "y_predictions_rf = rf.predict(X_test)\n",
    "acc = accuracy_score(y_test, y_pred)\n",
    "cv = cross_val_score(rf, X_test, y_test,scoring='roc_auc').mean()\n",
    "print(acc)\n",
    "print(cv)"
   ]
  },
  {
   "cell_type": "code",
   "execution_count": 58,
   "metadata": {},
   "outputs": [
    {
     "name": "stdout",
     "output_type": "stream",
     "text": [
      "                          Features  Importance scores\n",
      "0                              age           0.000120\n",
      "1                avg_glucose_level           0.005540\n",
      "2                              bmi           0.016601\n",
      "3                 hypertension_Yes           0.018525\n",
      "4                heart_disease_Yes           0.019848\n",
      "5                      gender_Male           0.023020\n",
      "6                 ever_married_Yes           0.023437\n",
      "7           work_type_Never_worked           0.024335\n",
      "8                work_type_Private           0.024635\n",
      "9          work_type_Self-employed           0.027808\n",
      "10              work_type_children           0.028696\n",
      "11            Residence_type_Urban           0.028973\n",
      "12  smoking_status_formerly smoked           0.212069\n",
      "13     smoking_status_never smoked           0.244802\n",
      "14           smoking_status_smokes           0.301589\n"
     ]
    }
   ],
   "source": [
    "#Feature importances:\n",
    "\n",
    "features = X\n",
    "importances = list(rf.feature_importances_)\n",
    "imp=np.sort(importances)\n",
    "tab=pd.DataFrame(list(zip(X,imp)),columns =['Features', 'Importance scores']) \n",
    "print(tab)"
   ]
  },
  {
   "cell_type": "code",
   "execution_count": 59,
   "metadata": {},
   "outputs": [
    {
     "data": {
      "image/png": "[encoded data removed]",
      "text/plain": [
       "<Figure size 720x360 with 1 Axes>"
      ]
     },
     "metadata": {
      "needs_background": "light"
     },
     "output_type": "display_data"
    }
   ],
   "source": [
    "#Visual comparison:\n",
    "plt.figure(figsize=(10,5))\n",
    "#indices = np.argsort(importances)\n",
    "index = [0,1,2,3,4,5,6,7,8,9,10,11,12,13,14]\n",
    "_=plt.barh(index,imp, align='center',color='b')\n",
    "plt.xlabel('Relative Importance',fontsize=15)\n",
    "plt.ylabel('Features',fontsize=15)\n",
    "plt.yticks(index, features)\n",
    "plt.title('Feature Importances for Random Forest classifier model',fontsize=15)\n",
    "plt.savefig(\"28.png\")\n",
    "plt.show()\n",
    "#len(importances)"
   ]
  },
  {
   "cell_type": "code",
   "execution_count": 60,
   "metadata": {},
   "outputs": [
    {
     "name": "stdout",
     "output_type": "stream",
     "text": [
      "ROC-AUC Score: 0.8432963709677419\n"
     ]
    }
   ],
   "source": [
    "from sklearn.metrics import auc, roc_curve, roc_auc_score\n",
    "y_scores_rf = rf.predict_proba(X_test)\n",
    "y_scores_rf = y_scores_rf[:,1]\n",
    "auroc = roc_auc_score(y_test, y_scores_rf)\n",
    "print(\"ROC-AUC Score:\", auroc)"
   ]
  },
  {
   "cell_type": "code",
   "execution_count": 61,
   "metadata": {},
   "outputs": [
    {
     "data": {
      "image/png": "[encoded data removed]",
      "text/plain": [
       "<Figure size 720x360 with 1 Axes>"
      ]
     },
     "metadata": {
      "needs_background": "light"
     },
     "output_type": "display_data"
    }
   ],
   "source": [
    "false_positive_rate, true_positive_rate, thresholds = roc_curve(y_test, y_scores_rf)\n",
    "def plot_roc_curve(false_positive_rate, true_positive_rate, label=None):\n",
    "    plt.plot(false_positive_rate, true_positive_rate, linewidth=2, label=label)\n",
    "    plt.plot([0, 1], [0, 1], 'r', linewidth=4)\n",
    "    plt.axis([0, 1, 0, 1])\n",
    "    plt.xlabel('False Positive Rate (FPR)', fontsize=15)\n",
    "    plt.ylabel('True Positive Rate (TPR)', fontsize=15)\n",
    "    plt.title('ROC curve (RF)',fontsize=15)\n",
    "\n",
    "plt.figure(figsize=(10, 5))\n",
    "plot_roc_curve(false_positive_rate, true_positive_rate)\n",
    "plt.savefig(\"30.png\")\n",
    "plt.show()"
   ]
  },
  {
   "cell_type": "markdown",
   "metadata": {},
   "source": [
    "### Compare Tuned Random Forrest To Naive Bayes"
   ]
  },
  {
   "cell_type": "code",
   "execution_count": 62,
   "metadata": {},
   "outputs": [
    {
     "name": "stdout",
     "output_type": "stream",
     "text": [
      "[0.80909455 0.75220353 0.79340278 0.859375   0.84353299]\n",
      "Mean cross validation test score: 0.8115217681623932\n",
      "Mean cross validation train score: 0.7800519277669018\n",
      "Standard deviation in cv scores: 0.03786157144659964\n"
     ]
    }
   ],
   "source": [
    "cv_scores_test= cross_val_score(rf,X_test,y_test,cv=5,scoring='roc_auc')\n",
    "cv_scores_train= cross_val_score(rf,X_train,y_train,cv=5,scoring='roc_auc')\n",
    "print(cv_scores_test)\n",
    "cv_scores_rf_test= cv_scores_test.mean()\n",
    "cv_scores_rf_train= cv_scores_train.mean()\n",
    "cv_scores_std_rf= cv_scores_test.std()\n",
    "print ('Mean cross validation test score: ' +str(cv_scores_rf_test))\n",
    "print ('Mean cross validation train score: ' +str(cv_scores_rf_train))\n",
    "print ('Standard deviation in cv scores: ' +str(cv_scores_std_rf))"
   ]
  },
  {
   "cell_type": "code",
   "execution_count": 63,
   "metadata": {},
   "outputs": [
    {
     "name": "stdout",
     "output_type": "stream",
     "text": [
      "       Algorithm  Model accuracy score\n",
      "0  Random Forest              0.939335\n",
      "1    Naive Bayes              0.939335\n"
     ]
    }
   ],
   "source": [
    "myLabels = [ 'Random Forest', 'Naive Bayes']\n",
    "score_test= [ cv_scores_rf_test,cv_scores_nb_test]\n",
    "score_train= [  cv_scores_rf_train,cv_scores_nb_train]\n",
    "Accuracy_score = [Accuracy_rf,Accuracy_nb]\n",
    "\n",
    "score_tab_acc = pd.DataFrame(list(zip(myLabels, Accuracy_score)), \n",
    "               columns =['Algorithm', 'Model accuracy score']) \n",
    "\n",
    "score_tab = pd.DataFrame(list(zip(myLabels, score_train, score_test)), \n",
    "               columns =['Algorithm', 'ROC-AUC train score', 'ROC-AUC test score' ]) \n",
    "print(score_tab_acc)"
   ]
  },
  {
   "cell_type": "code",
   "execution_count": 64,
   "metadata": {},
   "outputs": [
    {
     "data": {
      "image/png": "[encoded data removed]",
      "text/plain": [
       "<Figure size 720x360 with 1 Axes>"
      ]
     },
     "metadata": {
      "needs_background": "light"
     },
     "output_type": "display_data"
    },
    {
     "data": {
      "image/png": "[encoded data removed]",
      "text/plain": [
       "<Figure size 720x360 with 1 Axes>"
      ]
     },
     "metadata": {
      "needs_background": "light"
     },
     "output_type": "display_data"
    }
   ],
   "source": [
    "index=[1,2]\n",
    "index_acc=[1.2,2.2]\n",
    "plt.figure(figsize=(10,5))\n",
    "plt.xlabel('Models',fontsize=15)\n",
    "plt.ylabel ('Model accuracy scores',fontsize=15)\n",
    "plt.title('Comparison of the algorithms',fontsize=15)\n",
    "#patterns = [ \"/\"]\n",
    "_=plt.bar(index_acc,Accuracy_score,color='coral',alpha=0.8,label='Accuracy score',edgecolor='k',width=0.3)\n",
    "plt.xticks([1, 2], myLabels)\n",
    "#plt.legend()\n",
    "plt.savefig(\"26.png\")\n",
    "plt.show()\n",
    "\n",
    "\n",
    "index=[1,2]\n",
    "index_acc=[1.2,2.2]\n",
    "plt.figure(figsize=(10,5))\n",
    "plt.xlabel('Models',fontsize=15)\n",
    "plt.ylabel ('ROC-AUC scores',fontsize=15)\n",
    "plt.title('Comparison of the algorithms',fontsize=15)\n",
    "_=plt.bar(index,score_train,color='b',alpha=0.6,label='Validation score',edgecolor='k',width=0.2)\n",
    "_=plt.bar(index_acc,score_test,color='cyan',alpha=0.8,label='Test score',edgecolor='k',width=0.2)\n",
    "plt.xticks([1,2], myLabels)\n",
    "plt.legend()\n",
    "plt.savefig(\"27.png\")\n",
    "plt.show()"
   ]
  },
  {
   "cell_type": "markdown",
   "metadata": {},
   "source": [
    "### Conclusions\n",
    "In order to effectively predict stroke occurance, I looked at 14 features to most accurately predict, with the most important features being age, bmi, and avg glucose level.\n",
    "This is a classification problem and used below models to identify accurate predictions\n",
    "Random Forrest Classifier\n",
    "Naive Bayes\n",
    "Decision Tree\n",
    "K-Nearest Neighbor\n",
    "On initial testing it seemed Naive Bayes was the most accurate model, after tuning the Random Forrest model, I found their accurate prediction power was comperable.\n",
    "The data was split into a test size of 0.30, and a training set of 0.7, this was decided by comparing accuracy of multiple test sizes finding 0.3 was the size that yielded best results.\n",
    "After tuning the Random Forrest model, the model accuracy for both the Naive Bayes and Random Forrest both had scores of 0.939355\n",
    "\n",
    "\n",
    "### Improvements\n",
    "There is room for improvement in the data, there were 5110 patients yet there is room for more data. More classification algorithms could be used to compare and determine if there is a model with more predictive power. Some features with less importance could be removed to determine if that effects the predicting power."
   ]
  }
 ],
 "metadata": {
  "kernelspec": {
   "display_name": "Python 3",
   "language": "python",
   "name": "python3"
  },
  "language_info": {
   "codemirror_mode": {
    "name": "ipython",
    "version": 3
   },
   "file_extension": ".py",
   "mimetype": "text/x-python",
   "name": "python",
   "nbconvert_exporter": "python",
   "pygments_lexer": "ipython3",
   "version": "3.8.5"
  }
 },
 "nbformat": 4,
 "nbformat_minor": 4
}
